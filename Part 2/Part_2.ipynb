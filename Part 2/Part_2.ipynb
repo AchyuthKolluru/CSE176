{
 "cells": [
  {
   "cell_type": "code",
<<<<<<< HEAD
   "execution_count": 1,
=======
   "execution_count": 2,
>>>>>>> cc01f7163c58eee970b017f565cd9c71cecd154a
   "id": "fa89ea6c",
   "metadata": {},
   "outputs": [],
   "source": [
    "import scipy.io\n",
    "import numpy as np\n",
    "import pandas as pd\n",
    "import os\n",
    "import matplotlib.pyplot as plt\n",
    "import random\n",
    "import pickle as pk"
   ]
  },
  {
   "cell_type": "code",
<<<<<<< HEAD
   "execution_count": 2,
=======
   "execution_count": 3,
>>>>>>> cc01f7163c58eee970b017f565cd9c71cecd154a
   "id": "a5098bcb",
   "metadata": {},
   "outputs": [
    {
     "name": "stdout",
     "output_type": "stream",
     "text": [
      "dict_keys(['__header__', '__version__', '__globals__', 'train_fea', 'train_gnd', 'test_fea', 'test_gnd'])\n"
     ]
    }
   ],
   "source": [
    "#Loading the matlab datatset\n",
    "data = scipy.io.loadmat('MNIST.mat')\n",
    "print(data.keys())"
   ]
  },
  {
   "cell_type": "code",
<<<<<<< HEAD
   "execution_count": 3,
=======
   "execution_count": 4,
>>>>>>> cc01f7163c58eee970b017f565cd9c71cecd154a
   "id": "7c112d40",
   "metadata": {},
   "outputs": [
    {
     "name": "stdout",
     "output_type": "stream",
     "text": [
      "(60000, 784)\n",
      "(10000, 784)\n",
      "[  0   0   0   0   0   0   0   0   0   0   0   0   0   0   0   0   0   0\n",
      "   0   0   0   0   0   0   0   0   0   0   0   0   0   0   0   0   0   0\n",
      "   0   0   0   0   0   0   0   0   0   0   0   0   0   0   0   0   0   0\n",
      "   0   0   0   0   0   0   0   0   0   0   0   0   0   0   0   0   0   0\n",
      "   0   0   0   0   0   0   0   0   0   0   0   0   0   0   0   0   0   0\n",
      "   0   0   0   0   0   0   0   0   0   0   0   0   0   0   0   0   0   0\n",
      "   0   0   0   0   0   0   0   0   0   0   0   0   0   0   0   0   0   0\n",
      "   0   0   0   0   0   0   0   0   0   0   0   0   0   0   0   0   0   0\n",
      "   0   0   0   0   0   0   0   0   0   0   0   0   0   0   0   0   0   0\n",
      "   0   0   0   0   0   0   0   0   0   0   0   0   0   0   0   0   0   0\n",
      "   0   0   0   0   0   0   0   0   0   0   0   0   0   0   0   0   0   0\n",
      "   0   0   0   0   0   0   0   0   0   0   0   0   0   0   0   0   0   0\n",
      "   0   0   0   0   0   0   0   0   0   0   0   0   0   0   0   0   0   0\n",
      "   0   0   0   0   0   0   0   0   0   0   0  48  64  64  24   0   0   0\n",
      "   0   0   0   0   0   0   0   0   0   0   0   0   0   0   0   0   0   0\n",
      "   0   0 159 228 251 251 193   0   0   0   0   0   0   0   0   0   0   0\n",
      "   0   0   0   0   0   0   0   0   0  48 234 253 255 253 253 253 253   0\n",
      "   0   0   0   0   0   0   0   0   0   0   0   0   0   0   0   0   0  32\n",
      " 151 221 251 251 253 247 220 220 220   0   0   0   0   0   0   0   0   0\n",
      "   0   0   0   0   0   0   0   0  80 253 251 251 251 251 253 140   0   0\n",
      "   0   0   0   0   0   0   0   0   0   0   0   0   0   0   0   0  32 104\n",
      " 240 253 251 251 196  89  31   8   0   0   0   0   0   0   0   0   0   0\n",
      "   0   0   0   0   0   0   0  20 205 251 251 253 251 172  12   0   0   0\n",
      "   0   0   0   0   0   0   0   0   0   0   0   0   0   0   0  60 155 253\n",
      " 253 253 193 159  39   0   0   0   0   0   0   0   0   0   0   0   0   0\n",
      "   0   0   0   0   0   0  68 228 253 251 251 184  23   0   0   0   0   0\n",
      "   0   0   0   0   0   0   0   0   0   0   0   0   0   0  96 127 236 251\n",
      " 253 235 126  15   0   0   0   0   0   0   0   0   0   0   0   0   0   0\n",
      "   0   0   0   0   0 124 244 251 251 251 189  66   0   0   0   0   0   0\n",
      "   0   0   0   0   0   0   0   0   0   0   0   0   0   0   0 253 251 251\n",
      " 211  94   0   0   0   0   0   0   0   0   0   0   0   0   0   0   0   0\n",
      "   0   0   0   0   0   0   0 255 253 253  31   0   0   0   0   0   0   0\n",
      "   0   0   0   0   0   0   0   0   0   0   0   0   0   0   0   0   0  63\n",
      "  62  62   8   0   0   0   0   0   0   0   0   0   0   0   0   0   0   0\n",
      "   0   0   0   0   0   0   0   0   0   0   0   0   0   0   0   0   0   0\n",
      "   0   0   0   0   0   0   0   0   0   0   0   0   0   0   0   0   0   0\n",
      "   0   0   0   0   0   0   0   0   0   0   0   0   0   0   0   0   0   0\n",
      "   0   0   0   0   0   0   0   0   0   0   0   0   0   0   0   0   0   0\n",
      "   0   0   0   0   0   0   0   0   0   0   0   0   0   0   0   0   0   0\n",
      "   0   0   0   0   0   0   0   0   0   0   0   0   0   0   0   0   0   0\n",
      "   0   0   0   0   0   0   0   0   0   0   0   0   0   0   0   0   0   0\n",
      "   0   0   0   0   0   0   0   0   0   0   0   0   0   0   0   0   0   0\n",
      "   0   0   0   0   0   0   0   0   0   0   0   0   0   0   0   0   0   0\n",
      "   0   0   0   0   0   0   0   0   0   0]\n"
     ]
    }
   ],
   "source": [
    "#normalizing the values\n",
    "training_set = data['train_fea']\n",
    "training_label = data['train_gnd']\n",
    "testing_set = data['test_fea']\n",
    "testing_label = data['test_gnd']\n",
    "\n",
    "print(training_set.shape)\n",
    "print(testing_set.shape)\n",
    "print(training_set[0])"
   ]
  },
  {
   "cell_type": "code",
<<<<<<< HEAD
   "execution_count": 4,
=======
   "execution_count": 5,
>>>>>>> cc01f7163c58eee970b017f565cd9c71cecd154a
   "id": "10163048",
   "metadata": {},
   "outputs": [],
   "source": [
    "value = 1\n",
    "training_set[training_set != 0] = value\n",
    "testing_set[testing_set != 0] = value"
   ]
  },
  {
   "cell_type": "code",
<<<<<<< HEAD
   "execution_count": 5,
=======
   "execution_count": 6,
>>>>>>> cc01f7163c58eee970b017f565cd9c71cecd154a
   "id": "7a971feb",
   "metadata": {},
   "outputs": [],
   "source": [
    "# plt.imshow(training_set[58000][0:785].reshape(28,28), cmap='gray')\n",
    "# plt.show()\n",
    "\n",
    "#replace all labels with 10 to 0\n",
    "training_label[training_label > 9] = 0\n",
    "testing_label[testing_label > 9] = 0"
   ]
  },
  {
   "cell_type": "code",
<<<<<<< HEAD
   "execution_count": 6,
=======
   "execution_count": 7,
>>>>>>> cc01f7163c58eee970b017f565cd9c71cecd154a
   "id": "6191d8e4",
   "metadata": {},
   "outputs": [],
   "source": [
    "#adding the labels to 1 set.\n",
    "training = np.append(training_set, training_label, axis=1)"
   ]
  },
  {
   "cell_type": "code",
<<<<<<< HEAD
   "execution_count": 7,
=======
   "execution_count": 8,
>>>>>>> cc01f7163c58eee970b017f565cd9c71cecd154a
   "id": "fe89d093",
   "metadata": {},
   "outputs": [],
   "source": [
    "# #Shuffling the training set and parsin into training and validation\n",
    "Base = sorted(training, key=lambda k: random.random())\n",
    "Base = np.array(Base).reshape(60000, 785)\n",
    "\n",
    "training = Base[0:55000]\n",
    "validation = Base[55000:60000]"
   ]
  },
  {
   "cell_type": "code",
<<<<<<< HEAD
   "execution_count": 8,
=======
   "execution_count": 9,
>>>>>>> cc01f7163c58eee970b017f565cd9c71cecd154a
   "id": "659564f2",
   "metadata": {},
   "outputs": [
    {
     "data": {
      "text/plain": [
       "array([0, 0, 0, 0, 0, 0, 0, 0, 0, 0, 0, 0, 0, 0, 0, 0, 0, 0, 0, 0, 0, 0,\n",
       "       0, 0, 0, 0, 0, 0, 0, 0, 0, 0, 0, 0, 0, 0, 0, 0, 0, 0, 0, 0, 0, 0,\n",
       "       0, 0, 0, 0, 0, 0, 0, 0, 0, 0, 0, 0, 0, 0, 0, 0, 0, 0, 0, 0, 0, 0,\n",
       "       0, 0, 0, 0, 0, 0, 0, 0, 0, 0, 0, 0, 0, 0, 0, 0, 0, 0, 0, 0, 0, 0,\n",
       "       0, 0, 0, 0, 0, 0, 0, 0, 0, 0, 0, 0, 0, 0, 0, 0, 0, 0, 0, 0, 0, 0,\n",
       "       0, 0, 0, 0, 0, 0, 0, 0, 0, 0, 0, 0, 0, 0, 0, 0, 0, 0, 0, 0, 0, 0,\n",
       "       0, 0, 0, 0, 0, 0, 0, 0, 0, 0, 0, 0, 0, 0, 0, 0, 0, 0, 0, 0, 0, 0,\n",
       "       0, 0, 0, 0, 0, 0, 0, 0, 0, 0, 0, 0, 0, 0, 0, 0, 0, 0, 0, 0, 0, 0,\n",
<<<<<<< HEAD
       "       0, 0, 0, 0, 0, 0, 0, 0, 1, 1, 1, 1, 1, 1, 1, 0, 0, 0, 0, 0, 0, 0,\n",
       "       0, 0, 0, 0, 0, 0, 0, 0, 0, 0, 0, 0, 1, 1, 1, 1, 1, 1, 1, 1, 1, 1,\n",
       "       0, 0, 0, 0, 0, 0, 0, 0, 0, 0, 0, 0, 0, 0, 0, 0, 0, 1, 1, 1, 1, 1,\n",
       "       1, 1, 1, 1, 1, 1, 0, 0, 0, 0, 0, 0, 0, 0, 0, 0, 0, 0, 0, 0, 0, 0,\n",
       "       1, 1, 1, 1, 1, 1, 0, 0, 1, 1, 1, 1, 0, 0, 0, 0, 0, 0, 0, 0, 0, 0,\n",
       "       0, 0, 0, 0, 1, 1, 1, 1, 1, 1, 0, 0, 0, 0, 0, 1, 1, 1, 0, 0, 0, 0,\n",
       "       0, 0, 0, 0, 0, 0, 0, 0, 0, 1, 1, 1, 1, 1, 0, 0, 0, 0, 0, 0, 0, 1,\n",
       "       1, 1, 0, 0, 0, 0, 0, 0, 0, 0, 1, 1, 0, 1, 1, 1, 1, 1, 1, 1, 0, 0,\n",
       "       0, 0, 0, 0, 0, 1, 1, 1, 0, 0, 0, 0, 0, 0, 0, 0, 1, 1, 1, 1, 1, 1,\n",
       "       1, 1, 0, 0, 0, 0, 0, 0, 0, 0, 1, 1, 1, 1, 0, 0, 0, 0, 0, 0, 0, 0,\n",
       "       1, 1, 1, 1, 1, 1, 0, 0, 0, 0, 0, 0, 0, 0, 0, 0, 1, 1, 1, 1, 0, 0,\n",
       "       0, 0, 0, 0, 0, 0, 1, 1, 1, 1, 1, 0, 0, 0, 0, 0, 0, 0, 0, 0, 0, 1,\n",
       "       1, 1, 1, 1, 0, 0, 0, 0, 0, 0, 0, 0, 1, 1, 1, 1, 0, 0, 0, 0, 0, 0,\n",
       "       0, 0, 0, 0, 0, 1, 1, 1, 1, 1, 0, 0, 0, 0, 0, 0, 0, 0, 1, 1, 1, 1,\n",
       "       1, 0, 0, 0, 0, 0, 0, 0, 0, 1, 1, 1, 1, 1, 1, 0, 0, 0, 0, 0, 0, 0,\n",
       "       0, 0, 1, 1, 1, 1, 1, 1, 0, 0, 0, 0, 0, 0, 1, 1, 1, 1, 1, 1, 0, 0,\n",
       "       0, 0, 0, 0, 0, 0, 0, 0, 1, 1, 1, 1, 1, 1, 1, 1, 1, 1, 1, 1, 1, 1,\n",
       "       1, 1, 1, 1, 0, 0, 0, 0, 0, 0, 0, 0, 0, 0, 0, 0, 1, 1, 1, 1, 1, 1,\n",
       "       1, 1, 1, 1, 1, 1, 1, 1, 0, 0, 0, 0, 0, 0, 0, 0, 0, 0, 0, 0, 0, 0,\n",
       "       0, 0, 0, 0, 1, 1, 1, 1, 1, 1, 1, 1, 0, 0, 0, 0, 0, 0, 0, 0, 0, 0,\n",
=======
       "       0, 0, 0, 0, 0, 0, 0, 0, 0, 0, 0, 0, 0, 0, 0, 0, 0, 0, 0, 0, 0, 0,\n",
       "       0, 0, 0, 0, 0, 0, 0, 0, 0, 0, 0, 0, 0, 0, 0, 0, 0, 0, 0, 0, 0, 0,\n",
       "       0, 0, 0, 0, 0, 0, 0, 0, 0, 0, 0, 0, 0, 0, 0, 0, 0, 1, 1, 1, 0, 0,\n",
       "       0, 0, 0, 0, 0, 0, 0, 0, 0, 0, 0, 0, 0, 0, 0, 0, 0, 0, 0, 0, 0, 1,\n",
       "       1, 1, 1, 1, 0, 0, 0, 0, 0, 0, 0, 0, 0, 0, 0, 0, 0, 0, 0, 0, 0, 0,\n",
       "       0, 0, 0, 0, 1, 1, 1, 1, 1, 1, 0, 0, 0, 0, 0, 0, 0, 0, 0, 0, 0, 0,\n",
       "       0, 0, 0, 0, 0, 0, 0, 0, 1, 1, 1, 1, 1, 1, 1, 0, 0, 0, 0, 0, 0, 0,\n",
       "       0, 0, 0, 0, 0, 0, 0, 0, 0, 0, 0, 0, 1, 1, 1, 1, 1, 1, 1, 0, 0, 0,\n",
       "       0, 0, 0, 0, 0, 0, 0, 0, 0, 0, 0, 0, 0, 0, 0, 0, 0, 1, 1, 1, 1, 1,\n",
       "       1, 1, 1, 1, 1, 1, 1, 0, 0, 0, 0, 0, 0, 0, 0, 0, 0, 0, 0, 0, 0, 0,\n",
       "       0, 1, 1, 1, 1, 1, 1, 1, 1, 1, 1, 1, 1, 1, 1, 1, 1, 1, 1, 1, 0, 0,\n",
       "       0, 0, 0, 0, 0, 0, 0, 1, 1, 1, 1, 1, 1, 1, 1, 1, 1, 1, 1, 1, 1, 1,\n",
       "       1, 1, 1, 1, 1, 0, 0, 0, 0, 0, 0, 0, 0, 1, 1, 1, 1, 1, 1, 1, 1, 1,\n",
       "       1, 1, 1, 1, 1, 1, 1, 1, 1, 1, 1, 0, 0, 0, 0, 0, 0, 0, 0, 0, 0, 0,\n",
       "       1, 1, 1, 1, 0, 1, 1, 1, 1, 1, 1, 1, 1, 1, 1, 1, 1, 0, 0, 0, 0, 0,\n",
       "       0, 0, 0, 0, 0, 0, 0, 0, 0, 0, 0, 0, 0, 0, 0, 0, 0, 0, 1, 1, 1, 1,\n",
       "       1, 0, 0, 0, 0, 0, 0, 0, 0, 0, 0, 0, 0, 0, 0, 0, 0, 0, 0, 0, 0, 0,\n",
>>>>>>> cc01f7163c58eee970b017f565cd9c71cecd154a
       "       0, 0, 0, 0, 0, 0, 0, 0, 0, 0, 0, 0, 0, 0, 0, 0, 0, 0, 0, 0, 0, 0,\n",
       "       0, 0, 0, 0, 0, 0, 0, 0, 0, 0, 0, 0, 0, 0, 0, 0, 0, 0, 0, 0, 0, 0,\n",
       "       0, 0, 0, 0, 0, 0, 0, 0, 0, 0, 0, 0, 0, 0, 0, 0, 0, 0, 0, 0, 0, 0,\n",
       "       0, 0, 0, 0, 0, 0, 0, 0, 0, 0, 0, 0, 0, 0, 0, 0, 0, 0, 0, 0, 0, 0,\n",
       "       0, 0, 0, 0, 0, 0, 0, 0, 0, 0, 0, 0, 0, 0, 0, 0, 0, 0, 0, 0, 0, 0,\n",
       "       0, 0, 0, 0, 0, 0, 0, 0, 0, 0, 0, 0, 0, 0, 0, 0, 0, 0, 0, 0, 0, 0,\n",
       "       0, 0, 0, 0, 0, 0, 0, 0, 0, 0, 0, 0, 0, 0, 0, 0, 0, 0, 0, 0, 0, 0,\n",
<<<<<<< HEAD
       "       0, 0, 0, 0, 0, 0, 0, 0, 0, 0, 0, 0, 0, 0, 0], dtype=uint8)"
      ]
     },
     "execution_count": 8,
=======
       "       0, 0, 0, 0, 0, 0, 0, 0, 0, 0, 0, 0, 0, 0, 0, 0, 0, 0, 0, 0, 0, 0,\n",
       "       0, 0, 0, 0, 0, 0, 0, 0, 0, 0, 0, 0, 0, 0, 0, 0, 0, 0, 0, 0, 0, 0,\n",
       "       0, 0, 0, 0, 0, 0, 0, 0, 0, 0, 0, 0, 0, 0, 0, 0, 0, 0, 0, 0, 0, 0,\n",
       "       0, 0, 0, 0, 0, 0, 0, 0, 0, 0, 0, 0, 0, 0, 1], dtype=uint8)"
      ]
     },
     "execution_count": 9,
>>>>>>> cc01f7163c58eee970b017f565cd9c71cecd154a
     "metadata": {},
     "output_type": "execute_result"
    }
   ],
   "source": [
    "# print(validation.shape)\n",
    "validation[0]"
   ]
  },
  {
   "cell_type": "code",
<<<<<<< HEAD
   "execution_count": 9,
=======
   "execution_count": 10,
>>>>>>> cc01f7163c58eee970b017f565cd9c71cecd154a
   "id": "f15a0c56",
   "metadata": {},
   "outputs": [],
   "source": [
    "#Split into X and y\n",
    "X = training[:,0:784]\n",
    "\n",
    "y = training[:,784]"
   ]
  },
  {
   "cell_type": "code",
<<<<<<< HEAD
   "execution_count": 10,
=======
   "execution_count": 14,
>>>>>>> cc01f7163c58eee970b017f565cd9c71cecd154a
   "id": "5d507742",
   "metadata": {},
   "outputs": [],
   "source": [
    "from sklearn.metrics import auc, accuracy_score, confusion_matrix, mean_squared_error\n",
    "from xgboost import XGBClassifier"
   ]
  },
  {
   "cell_type": "code",
   "execution_count": 12,
   "id": "1d5dc180",
   "metadata": {},
   "outputs": [],
   "source": [
    "model = XGBClassifier()\n",
    "model.fit(X, y)\n",
    "\n",
    "filename = f'PIKLE/XGBOOST'\n",
    "pk.dump(model, open(filename, 'wb'))"
   ]
  },
  {
   "cell_type": "code",
   "execution_count": 11,
   "id": "828f7980",
   "metadata": {},
   "outputs": [
    {
     "data": {
      "text/plain": [
       "{0, 1, 2, 3, 4, 5, 6, 7, 8, 9}"
      ]
     },
     "execution_count": 11,
     "metadata": {},
     "output_type": "execute_result"
    }
   ],
   "source": [
    "set(y)"
   ]
  },
  {
   "cell_type": "code",
   "execution_count": 15,
   "id": "6b784084",
   "metadata": {},
   "outputs": [
    {
<<<<<<< HEAD
     "data": {
      "text/plain": [
       "0.978"
      ]
     },
     "execution_count": 15,
=======
     "data": {
      "text/plain": [
       "0.978"
      ]
     },
     "execution_count": 15,
     "metadata": {},
     "output_type": "execute_result"
    }
   ],
   "source": [
    "model.score(validation[:,0:784], validation[:,784])"
   ]
  },
  {
   "cell_type": "code",
   "execution_count": 15,
   "id": "9e335875",
   "metadata": {},
   "outputs": [],
   "source": [
    "model_1 = XGBClassifier(eta = 0.2, max_depth = 10, n_estimators=100)\n",
    "model_1.fit(X, y)\n",
    "filename = f'PIKLE/XGBOOST_Test'\n",
    "pk.dump(model_1, open(filename, 'wb'))"
   ]
  },
  {
   "cell_type": "code",
   "execution_count": 18,
   "id": "00791549",
   "metadata": {},
   "outputs": [
    {
     "data": {
      "text/plain": [
       "0.976"
      ]
     },
     "execution_count": 18,
     "metadata": {},
     "output_type": "execute_result"
    }
   ],
   "source": [
    "model_1.score(validation[:,0:784], validation[:,784])"
   ]
  },
  {
   "cell_type": "code",
   "execution_count": 17,
   "id": "caf8ba4d",
   "metadata": {},
   "outputs": [
    {
     "data": {
      "text/plain": [
       "0.9743"
      ]
     },
     "execution_count": 17,
>>>>>>> cc01f7163c58eee970b017f565cd9c71cecd154a
     "metadata": {},
     "output_type": "execute_result"
    }
   ],
   "source": [
    "model.score(validation[:,0:784], validation[:,784])"
   ]
  },
  {
   "cell_type": "code",
   "execution_count": 11,
   "id": "754f96b0",
   "metadata": {},
   "outputs": [],
   "source": [
    "from sklearn.tree import DecisionTreeClassifier"
   ]
  },
  {
   "cell_type": "code",
   "execution_count": 12,
   "id": "1af9a9b7",
   "metadata": {},
   "outputs": [
    {
     "data": {
      "text/plain": [
       "0.8856"
      ]
     },
     "execution_count": 12,
     "metadata": {},
     "output_type": "execute_result"
    }
   ],
   "source": [
    "base = DecisionTreeClassifier()\n",
    "base.fit(X,y)\n",
    "base.score(validation[:,0:784], validation[:,784])"
   ]
  },
  {
   "cell_type": "code",
   "execution_count": 13,
   "id": "29287ccf",
   "metadata": {},
   "outputs": [
    {
     "data": {
      "image/png": "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",
      "text/plain": [
       "<Figure size 640x480 with 1 Axes>"
      ]
     },
     "metadata": {},
     "output_type": "display_data"
    }
   ],
   "source": [
    "from sklearn.metrics import auc, accuracy_score, confusion_matrix, mean_squared_error\n",
    "import matplotlib.pyplot as plt\n",
    "from matplotlib.legend_handler import HandlerLine2D\n",
    "\n",
    "train_results = []\n",
    "test_results = []\n",
    "list_nb_trees = [1,2,3,4,5,6,7,8,9,10,11,12,13,14,15]\n",
    "\n",
    "for nb_trees in list_nb_trees:\n",
    "    modelG = DecisionTreeClassifier(max_depth= nb_trees)\n",
    "    modelG.fit(X, y)\n",
    "\n",
    "    train_results.append(1 - (modelG.score(X,y)))\n",
    "    test_results.append(1 - (modelG.score(testing_set, testing_label)))\n",
    "\n",
    "line1, = plt.plot(list_nb_trees, train_results, color=\"r\", label=\"Training Score\")\n",
    "line2, = plt.plot(list_nb_trees, test_results, color=\"g\", label=\"Testing Score\")\n",
    "\n",
    "plt.legend(handler_map={line1: HandlerLine2D(numpoints=2)})\n",
    "plt.ylabel('Error')\n",
    "plt.xlabel('Tree Depth')\n",
    "fig = plt.gcf()\n",
    "plt.show()\n",
    "fig.savefig('TreeBaseModel.png')"
   ]
  },
  {
   "cell_type": "code",
   "execution_count": 12,
   "id": "9e335875",
   "metadata": {},
   "outputs": [
    {
     "name": "stderr",
     "output_type": "stream",
     "text": [
      "C:\\Users\\stany\\anaconda3\\envs\\Proj\\lib\\site-packages\\sklearn\\model_selection\\_search.py:952: UserWarning: One or more of the test scores are non-finite: [nan nan nan nan nan nan nan nan nan nan nan nan]\n",
      "  warnings.warn(\n"
     ]
    },
    {
     "name": "stdout",
     "output_type": "stream",
     "text": [
      "[23:09:06] WARNING: C:\\Users\\dev-admin\\croot2\\xgboost-split_1675461376218\\work\\src\\learner.cc:767: \n",
      "Parameters: { \"scale_pos_weight\" } are not used.\n",
      "\n"
     ]
    },
    {
     "ename": "AttributeError",
     "evalue": "'GridSearchCV' object has no attribute 'grid_scores_'",
     "output_type": "error",
     "traceback": [
      "\u001b[1;31m---------------------------------------------------------------------------\u001b[0m",
      "\u001b[1;31mAttributeError\u001b[0m                            Traceback (most recent call last)",
      "Cell \u001b[1;32mIn[12], line 11\u001b[0m\n\u001b[0;32m      6\u001b[0m model_1 \u001b[38;5;241m=\u001b[39m GridSearchCV(estimator \u001b[38;5;241m=\u001b[39m XGBClassifier( learning_rate \u001b[38;5;241m=\u001b[39m\u001b[38;5;241m0.1\u001b[39m, n_estimators\u001b[38;5;241m=\u001b[39m\u001b[38;5;241m140\u001b[39m, max_depth\u001b[38;5;241m=\u001b[39m\u001b[38;5;241m5\u001b[39m,\n\u001b[0;32m      7\u001b[0m  min_child_weight\u001b[38;5;241m=\u001b[39m\u001b[38;5;241m1\u001b[39m, gamma\u001b[38;5;241m=\u001b[39m\u001b[38;5;241m0\u001b[39m, subsample\u001b[38;5;241m=\u001b[39m\u001b[38;5;241m0.8\u001b[39m, colsample_bytree\u001b[38;5;241m=\u001b[39m\u001b[38;5;241m0.8\u001b[39m, scale_pos_weight\u001b[38;5;241m=\u001b[39m\u001b[38;5;241m1\u001b[39m, seed\u001b[38;5;241m=\u001b[39m\u001b[38;5;241m27\u001b[39m), \n\u001b[0;32m      8\u001b[0m  param_grid \u001b[38;5;241m=\u001b[39m param_test1, scoring\u001b[38;5;241m=\u001b[39m\u001b[38;5;124m'\u001b[39m\u001b[38;5;124mroc_auc\u001b[39m\u001b[38;5;124m'\u001b[39m,n_jobs\u001b[38;5;241m=\u001b[39m\u001b[38;5;241m4\u001b[39m, cv\u001b[38;5;241m=\u001b[39m\u001b[38;5;241m5\u001b[39m)\n\u001b[0;32m     10\u001b[0m model_1\u001b[38;5;241m.\u001b[39mfit(X,y)\n\u001b[1;32m---> 11\u001b[0m \u001b[43mmodel_1\u001b[49m\u001b[38;5;241;43m.\u001b[39;49m\u001b[43mgrid_scores_\u001b[49m, model_1\u001b[38;5;241m.\u001b[39mbest_params_, model_1\u001b[38;5;241m.\u001b[39mbest_score_\n\u001b[0;32m     12\u001b[0m filename \u001b[38;5;241m=\u001b[39m \u001b[38;5;124mf\u001b[39m\u001b[38;5;124m'\u001b[39m\u001b[38;5;124mPIKLE/XGBOOST_Test\u001b[39m\u001b[38;5;124m'\u001b[39m\n\u001b[0;32m     13\u001b[0m pk\u001b[38;5;241m.\u001b[39mdump(model_1, \u001b[38;5;28mopen\u001b[39m(filename, \u001b[38;5;124m'\u001b[39m\u001b[38;5;124mwb\u001b[39m\u001b[38;5;124m'\u001b[39m))\n",
      "\u001b[1;31mAttributeError\u001b[0m: 'GridSearchCV' object has no attribute 'grid_scores_'"
     ]
    }
   ],
   "source": [
    "from sklearn.model_selection import GridSearchCV\n",
    "param_test1 = {\n",
    " 'max_depth':range(3,10,2),\n",
    " 'min_child_weight':range(1,6,2)\n",
    "}\n",
    "model_1 = GridSearchCV(estimator = XGBClassifier( learning_rate =0.1, n_estimators=140, max_depth=5,\n",
    " min_child_weight=1, gamma=0, subsample=0.8, colsample_bytree=0.8, scale_pos_weight=1, seed=27), \n",
    " param_grid = param_test1, scoring='roc_auc',n_jobs=4, cv=5)\n",
    "\n",
    "model_1.fit(X,y)\n",
    "model_1.grid_scores_, model_1.best_params_, model_1.best_score_\n",
    "filename = f'PIKLE/XGBOOST_Test'\n",
    "pk.dump(model_1, open(filename, 'wb'))"
   ]
  },
  {
   "cell_type": "code",
   "execution_count": 33,
   "id": "a58ef20a",
   "metadata": {},
   "outputs": [
    {
     "data": {
      "text/plain": [
       "(XGBClassifier(base_score=None, booster=None, callbacks=None,\n",
       "               colsample_bylevel=None, colsample_bynode=None,\n",
       "               colsample_bytree=0.8, early_stopping_rounds=None,\n",
       "               enable_categorical=False, eval_metric=None, feature_types=None,\n",
       "               gamma=0, gpu_id=None, grow_policy=None, importance_type=None,\n",
       "               interaction_constraints=None, learning_rate=0.1, max_bin=None,\n",
       "               max_cat_threshold=None, max_cat_to_onehot=None,\n",
       "               max_delta_step=None, max_depth=3, max_leaves=None,\n",
       "               min_child_weight=1, missing=nan, monotone_constraints=None,\n",
       "               n_estimators=140, n_jobs=None, num_parallel_tree=None,\n",
       "               objective='multi:softprob', predictor=None, ...),\n",
       " nan)"
      ]
     },
     "execution_count": 33,
     "metadata": {},
     "output_type": "execute_result"
    }
   ],
   "source": [
    "model_1.best_estimator_"
   ]
  },
  {
   "cell_type": "code",
   "execution_count": 34,
   "id": "743a79bc",
   "metadata": {},
   "outputs": [
    {
     "data": {
      "text/plain": [
       "nan"
      ]
     },
     "execution_count": 34,
     "metadata": {},
     "output_type": "execute_result"
    }
   ],
   "source": [
    " model_1.best_score_"
   ]
  },
  {
   "cell_type": "code",
   "execution_count": 30,
   "id": "93cdccea",
   "metadata": {},
   "outputs": [
    {
     "data": {
      "text/html": [
       "<style>#sk-container-id-1 {color: black;background-color: white;}#sk-container-id-1 pre{padding: 0;}#sk-container-id-1 div.sk-toggleable {background-color: white;}#sk-container-id-1 label.sk-toggleable__label {cursor: pointer;display: block;width: 100%;margin-bottom: 0;padding: 0.3em;box-sizing: border-box;text-align: center;}#sk-container-id-1 label.sk-toggleable__label-arrow:before {content: \"▸\";float: left;margin-right: 0.25em;color: #696969;}#sk-container-id-1 label.sk-toggleable__label-arrow:hover:before {color: black;}#sk-container-id-1 div.sk-estimator:hover label.sk-toggleable__label-arrow:before {color: black;}#sk-container-id-1 div.sk-toggleable__content {max-height: 0;max-width: 0;overflow: hidden;text-align: left;background-color: #f0f8ff;}#sk-container-id-1 div.sk-toggleable__content pre {margin: 0.2em;color: black;border-radius: 0.25em;background-color: #f0f8ff;}#sk-container-id-1 input.sk-toggleable__control:checked~div.sk-toggleable__content {max-height: 200px;max-width: 100%;overflow: auto;}#sk-container-id-1 input.sk-toggleable__control:checked~label.sk-toggleable__label-arrow:before {content: \"▾\";}#sk-container-id-1 div.sk-estimator input.sk-toggleable__control:checked~label.sk-toggleable__label {background-color: #d4ebff;}#sk-container-id-1 div.sk-label input.sk-toggleable__control:checked~label.sk-toggleable__label {background-color: #d4ebff;}#sk-container-id-1 input.sk-hidden--visually {border: 0;clip: rect(1px 1px 1px 1px);clip: rect(1px, 1px, 1px, 1px);height: 1px;margin: -1px;overflow: hidden;padding: 0;position: absolute;width: 1px;}#sk-container-id-1 div.sk-estimator {font-family: monospace;background-color: #f0f8ff;border: 1px dotted black;border-radius: 0.25em;box-sizing: border-box;margin-bottom: 0.5em;}#sk-container-id-1 div.sk-estimator:hover {background-color: #d4ebff;}#sk-container-id-1 div.sk-parallel-item::after {content: \"\";width: 100%;border-bottom: 1px solid gray;flex-grow: 1;}#sk-container-id-1 div.sk-label:hover label.sk-toggleable__label {background-color: #d4ebff;}#sk-container-id-1 div.sk-serial::before {content: \"\";position: absolute;border-left: 1px solid gray;box-sizing: border-box;top: 0;bottom: 0;left: 50%;z-index: 0;}#sk-container-id-1 div.sk-serial {display: flex;flex-direction: column;align-items: center;background-color: white;padding-right: 0.2em;padding-left: 0.2em;position: relative;}#sk-container-id-1 div.sk-item {position: relative;z-index: 1;}#sk-container-id-1 div.sk-parallel {display: flex;align-items: stretch;justify-content: center;background-color: white;position: relative;}#sk-container-id-1 div.sk-item::before, #sk-container-id-1 div.sk-parallel-item::before {content: \"\";position: absolute;border-left: 1px solid gray;box-sizing: border-box;top: 0;bottom: 0;left: 50%;z-index: -1;}#sk-container-id-1 div.sk-parallel-item {display: flex;flex-direction: column;z-index: 1;position: relative;background-color: white;}#sk-container-id-1 div.sk-parallel-item:first-child::after {align-self: flex-end;width: 50%;}#sk-container-id-1 div.sk-parallel-item:last-child::after {align-self: flex-start;width: 50%;}#sk-container-id-1 div.sk-parallel-item:only-child::after {width: 0;}#sk-container-id-1 div.sk-dashed-wrapped {border: 1px dashed gray;margin: 0 0.4em 0.5em 0.4em;box-sizing: border-box;padding-bottom: 0.4em;background-color: white;}#sk-container-id-1 div.sk-label label {font-family: monospace;font-weight: bold;display: inline-block;line-height: 1.2em;}#sk-container-id-1 div.sk-label-container {text-align: center;}#sk-container-id-1 div.sk-container {/* jupyter's `normalize.less` sets `[hidden] { display: none; }` but bootstrap.min.css set `[hidden] { display: none !important; }` so we also need the `!important` here to be able to override the default hidden behavior on the sphinx rendered scikit-learn.org. See: https://github.com/scikit-learn/scikit-learn/issues/21755 */display: inline-block !important;position: relative;}#sk-container-id-1 div.sk-text-repr-fallback {display: none;}</style><div id=\"sk-container-id-1\" class=\"sk-top-container\"><div class=\"sk-text-repr-fallback\"><pre>XGBClassifier(base_score=None, booster=None, callbacks=None,\n",
       "              colsample_bylevel=None, colsample_bynode=None,\n",
       "              colsample_bytree=0.8, early_stopping_rounds=None,\n",
       "              enable_categorical=False, eval_metric=None, feature_types=None,\n",
       "              gamma=0, gpu_id=None, grow_policy=None, importance_type=None,\n",
       "              interaction_constraints=None, learning_rate=0.1, max_bin=None,\n",
       "              max_cat_threshold=None, max_cat_to_onehot=None,\n",
       "              max_delta_step=None, max_depth=3, max_leaves=None,\n",
       "              min_child_weight=1, missing=nan, monotone_constraints=None,\n",
       "              n_estimators=140, n_jobs=None, num_parallel_tree=None,\n",
       "              objective=&#x27;multi:softprob&#x27;, predictor=None, ...)</pre><b>In a Jupyter environment, please rerun this cell to show the HTML representation or trust the notebook. <br />On GitHub, the HTML representation is unable to render, please try loading this page with nbviewer.org.</b></div><div class=\"sk-container\" hidden><div class=\"sk-item\"><div class=\"sk-estimator sk-toggleable\"><input class=\"sk-toggleable__control sk-hidden--visually\" id=\"sk-estimator-id-1\" type=\"checkbox\" checked><label for=\"sk-estimator-id-1\" class=\"sk-toggleable__label sk-toggleable__label-arrow\">XGBClassifier</label><div class=\"sk-toggleable__content\"><pre>XGBClassifier(base_score=None, booster=None, callbacks=None,\n",
       "              colsample_bylevel=None, colsample_bynode=None,\n",
       "              colsample_bytree=0.8, early_stopping_rounds=None,\n",
       "              enable_categorical=False, eval_metric=None, feature_types=None,\n",
       "              gamma=0, gpu_id=None, grow_policy=None, importance_type=None,\n",
       "              interaction_constraints=None, learning_rate=0.1, max_bin=None,\n",
       "              max_cat_threshold=None, max_cat_to_onehot=None,\n",
       "              max_delta_step=None, max_depth=3, max_leaves=None,\n",
       "              min_child_weight=1, missing=nan, monotone_constraints=None,\n",
       "              n_estimators=140, n_jobs=None, num_parallel_tree=None,\n",
       "              objective=&#x27;multi:softprob&#x27;, predictor=None, ...)</pre></div></div></div></div></div>"
      ],
      "text/plain": [
       "XGBClassifier(base_score=None, booster=None, callbacks=None,\n",
       "              colsample_bylevel=None, colsample_bynode=None,\n",
       "              colsample_bytree=0.8, early_stopping_rounds=None,\n",
       "              enable_categorical=False, eval_metric=None, feature_types=None,\n",
       "              gamma=0, gpu_id=None, grow_policy=None, importance_type=None,\n",
       "              interaction_constraints=None, learning_rate=0.1, max_bin=None,\n",
       "              max_cat_threshold=None, max_cat_to_onehot=None,\n",
       "              max_delta_step=None, max_depth=3, max_leaves=None,\n",
       "              min_child_weight=1, missing=nan, monotone_constraints=None,\n",
       "              n_estimators=140, n_jobs=None, num_parallel_tree=None,\n",
       "              objective='multi:softprob', predictor=None, ...)"
      ]
     },
     "execution_count": 30,
     "metadata": {},
     "output_type": "execute_result"
    }
   ],
   "source": []
  },
  {
   "cell_type": "code",
   "execution_count": null,
   "id": "00791549",
   "metadata": {},
   "outputs": [],
   "source": [
    "model_1.score(validation[:,0:784], validation[:,784])"
   ]
  },
  {
   "cell_type": "code",
   "execution_count": null,
   "id": "caf8ba4d",
   "metadata": {},
   "outputs": [],
   "source": [
    "# model_1.score(training[:,0:784], training[:,784])\n",
    "\n",
    "model_1.score(testing_set, testing_label)"
   ]
  },
  {
   "cell_type": "code",
   "execution_count": 105,
   "id": "95845813",
   "metadata": {},
   "outputs": [],
   "source": [
    "import pickle as pk\n",
    "file = open('XGBOOST_1_Final', 'rb')\n",
    "loadModel = pk.load(file)\n",
    "file.close()"
   ]
  },
  {
   "cell_type": "code",
   "execution_count": 106,
   "id": "87480065",
   "metadata": {},
   "outputs": [
    {
     "data": {
      "text/plain": [
       "0.9785"
      ]
     },
     "execution_count": 106,
     "metadata": {},
     "output_type": "execute_result"
    }
   ],
   "source": [
    "# loadModel.score(validation[:,0:784], validation[:,784])\n",
    "loadModel.score(testing_set, testing_label)"
   ]
  },
  {
   "cell_type": "code",
   "execution_count": 97,
   "id": "92701806",
   "metadata": {},
   "outputs": [
    {
     "data": {
      "text/plain": [
       "<bound method XGBModel.get_params of XGBClassifier(base_score=None, booster=None, callbacks=None,\n",
       "              colsample_bylevel=None, colsample_bynode=None,\n",
       "              colsample_bytree=None, early_stopping_rounds=None,\n",
       "              enable_categorical=False, eta=0.2, eval_metric=None,\n",
       "              feature_types=None, gamma=None, gpu_id=None, grow_policy=None,\n",
       "              importance_type=None, interaction_constraints=None,\n",
       "              learning_rate=None, max_bin=None, max_cat_threshold=None,\n",
       "              max_cat_to_onehot=None, max_delta_step=None, max_depth=10,\n",
       "              max_leaves=None, min_child_weight=None, missing=nan,\n",
       "              monotone_constraints=None, n_estimators=784, n_jobs=None,\n",
       "              num_parallel_tree=None, objective='multi:softprob', ...)>"
      ]
     },
     "execution_count": 97,
     "metadata": {},
     "output_type": "execute_result"
    }
   ],
   "source": [
    "loadModel.get_params"
   ]
  },
  {
   "cell_type": "code",
   "execution_count": 20,
   "id": "260fe513",
   "metadata": {},
   "outputs": [],
   "source": [
    "model_2 = XGBClassifier(eta = 0.2, gamma = 2, max_depth = 10, n_estimators=784, subsample=0.5, reg_lambda = 2)\n",
    "model_2.fit(X, y)\n",
    "filename = f'XGBOOST_2'\n",
    "pk.dump(model_2, open(filename, 'wb'))"
   ]
  },
  {
   "cell_type": "code",
   "execution_count": 21,
   "id": "f94e1db8",
   "metadata": {},
   "outputs": [
    {
     "data": {
      "text/plain": [
       "0.9958"
      ]
     },
     "execution_count": 21,
     "metadata": {},
     "output_type": "execute_result"
    }
   ],
   "source": [
    "model_2.score(training[:,0:784], training[:,784])"
   ]
  },
  {
   "cell_type": "code",
   "execution_count": 22,
   "id": "0b7cfd80",
   "metadata": {},
   "outputs": [
    {
     "data": {
      "text/plain": [
       "0.975"
      ]
     },
     "execution_count": 22,
     "metadata": {},
     "output_type": "execute_result"
    }
   ],
   "source": [
    "model_2.score(validation[:,0:784], validation[:,784])"
   ]
  },
  {
   "cell_type": "code",
   "execution_count": 25,
   "id": "2c43096b",
   "metadata": {},
   "outputs": [
    {
     "data": {
      "image/png": "iVBORw0KGgoAAAANSUhEUgAAAkAAAAGxCAYAAACKvAkXAAAAOXRFWHRTb2Z0d2FyZQBNYXRwbG90bGliIHZlcnNpb24zLjcuMSwgaHR0cHM6Ly9tYXRwbG90bGliLm9yZy/bCgiHAAAACXBIWXMAAA9hAAAPYQGoP6dpAABc0klEQVR4nO3deVhUZf8G8HtYh10WZZFVDYVwCVACI0sTlxYtKzTLzKVITQUtNTOXFlrVzC0TtVWtrH5mlKLlTqYIrrijuEAEKgOyz5zfH/PO5Miwz8yZGe7Pdc3FzJnnnPN9OPZyv895zjkSQRAEEBEREbUiFmIXQERERGRoDEBERETU6jAAERERUavDAEREREStDgMQERERtToMQERERNTqMAARERFRq8MARERERK2OldgFGCOFQoFr167ByckJEolE7HKIiIioEQRBQElJCXx8fGBhUf8YDwOQFteuXYOfn5/YZRAREVEzXL58Gb6+vvW2YQDSwsnJCYDyF+js7CxyNURERNQYMpkMfn5+6r/j9WEA0kJ12svZ2ZkBiIiIyMQ0ZvoKJ0ETERFRq8MARERERK0OAxARERG1OpwDREREBiOXy1FdXS12GWTCbGxsGrzEvTEYgIiISO8EQUB+fj5u3rwpdilk4iwsLBAUFAQbG5sWbYcBiIiI9E4Vftq1awd7e3veZJaaRXWj4ry8PPj7+7fo3xEDEBER6ZVcLleHH3d3d7HLIRPXtm1bXLt2DTU1NbC2tm72djgJmoiI9Eo158fe3l7kSsgcqE59yeXyFm2HAYiIiAyCp71IF3T174gBiIiIyEAeeOABTJ06tdHtL168CIlEgqysLL3V1FoxABEREd1BIpHU+xo9enSztvvjjz/irbfeanR7Pz8/5OXlISwsrFn7a4pNmzYhKioKLi4ucHJywt13341p06bpfb9i4SRoIiKiO+Tl5anfb9y4EW+++SZOnz6tXmZnZ6fRvrq6ulETct3c3JpUh6WlJby8vJq0TnNs374dw4cPx7vvvovHHnsMEokEJ0+exI4dO/S2T7lcDolEopN7+jQHR4AMSFYpw55Le7Dr4i6xSyEionp4eXmpXy4uLpBIJOrPFRUVaNOmDb777js88MADkEql+Prrr1FUVIQRI0bA19cX9vb26Nq1K9avX6+x3TtPgQUGBuLdd9/FmDFj4OTkBH9/f6xatUr9/Z2nwHbu3AmJRIIdO3YgMjIS9vb2iImJ0QhnAPD222+jXbt2cHJywrhx4zBz5kz06NGjzv5u2bIF9913H1599VV07twZwcHBGDp0KD799FONdps3b0ZkZCSkUik8PDzwxBNPqL+7ceMGRo0aBVdXV9jb22PQoEE4e/as+vt169ahTZs22LJlC0JDQ2Fra4tLly6hqqoKr732Gtq3bw8HBwdERUVh586djTxSzccAZECZeZm4f939eGnLS2KXQkRELTRjxgxMnjwZ2dnZGDBgACoqKhAREYEtW7bg+PHjePHFF/Hcc8/hwIED9W7n448/RmRkJDIzMzFhwgS8/PLLOHXqVL3rzJ49Gx9//DEOHToEKysrjBkzRv3dN998g3feeQfvv/8+MjIy4O/vjxUrVtS7PS8vL5w4cQLHjx+vs82vv/6KJ554Ag8//DAyMzPVIUxl9OjROHToEDZv3oz09HQIgoDBgwdr3Pm7rKwMycnJWL16NU6cOIF27drhhRdewL59+7BhwwYcPXoUTz31FAYOHKgRnvRCoFqKi4sFAEJxcbFOt3ui4ISAeRDc3nfT6XaJiIxZeXm5cPLkSaG8vLzuRgqFIJSW6v6lULS4/rVr1wouLi7qzzk5OQIAYfHixQ2uO3jwYGHatGnqz3369BGmTJmi/hwQECA8++yzt/0aFEK7du2EFStWaOwrMzNTEARB+PPPPwUAwvbt29Xr/PrrrwIA9e83KipKmDhxokYdvXv3Frp3715nnaWlpcLgwYMFAEJAQIAQHx8vpKSkCBUVFeo20dHRwsiRI7Wuf+bMGQGAsG/fPvWywsJCwc7OTvjuu+8EQVD+HgEIWVlZ6jbnzp0TJBKJcPXqVY3t9evXT5g1a5bWfdX376kpf785B8iAPOw9AAA3ym+gRlEDKwv++omIAABlZYCjo+63W1oKODjofruAxugHoJzT8t5772Hjxo24evUqKisrUVlZCYcG9t+tWzf1e9WptoKCgkav4+3tDQAoKCiAv78/Tp8+jQkTJmi079WrF/744486t+fg4IBff/0V58+fx59//om//voL06ZNwyeffIL09HTY29sjKysL48eP17p+dnY2rKysEBUVpV7m7u6Ozp07Izs7W73MxsZGo/bDhw9DEAQEBwdrbK+yslLvN83kX2ADcrNzgwQSCBBwvfw62jm0E7skIiJqpjuDzccff4xFixZh8eLF6Nq1KxwcHDB16lRUVVXVu507J09LJBIoFIpGr6O6L87t69x5rxxBEOrdnkrHjh3RsWNHjBs3DrNnz0ZwcDA2btyIF154odbE78ZsXxAEjVrs7Ow0PisUClhaWiIjIwOWlpYa6zrqIxDfhgHIgKwsrOBq54rr5ddRWFbIAEREpGJvrxyt0cd2DWTPnj0YMmQInn32WQDKP+5nz55FSEiIwWoAgM6dO+Pvv//Gc889p1526NChJm8nMDAQ9vb2uHXrFgDlqNOOHTvwwgsv1GobGhqKmpoaHDhwADExMQCAoqIinDlzpt7+33PPPZDL5SgoKEBsbGyTa2wJBiADa2vfFtfLr+PfW/8CbcWuhojISEgkejtVZSidOnXCpk2bsH//fri6umLhwoXIz883eAB65ZVXMH78eERGRiImJgYbN27E0aNH0aFDhzrXmTdvHsrKyjB48GAEBATg5s2bWLJkCaqrq9G/f38AwNy5c9GvXz907NgRw4cPR01NDX777Te89tpruOuuuzBkyBCMHz8en332GZycnDBz5ky0b98eQ4YMqXO/wcHBGDlyJEaNGoWPP/4Y99xzDwoLC/HHH3+ga9euGDx4sM5/Pyq8CszA2jooU8+/Zf+KXAkREenSnDlzEB4ejgEDBuCBBx6Al5cXhg4davA6Ro4ciVmzZmH69OkIDw9HTk4ORo8eDalUWuc6ffr0wYULFzBq1Ch06dIFgwYNQn5+PrZt24bOnTsDUF7C//3332Pz5s3o0aMH+vbtq3GF29q1axEREYFHHnkE0dHREAQBqampDd4fae3atRg1ahSmTZuGzp0747HHHsOBAwfg5+enm19IHSRCY08MtiIymQwuLi4oLi6Gs7OzTrf9+MbH8fOpn7Hi4RVIiEzQ6baJiIxRRUUFcnJyEBQUVO8fYdKf/v37w8vLC1999ZXYpbRYff+emvL3m6fADKyt/f9GgG5xBIiIiHSvrKwMK1euxIABA2BpaYn169dj+/btSEtLE7s0o8IAZGCqS+ELywpFroSIiMyRRCJBamoq3n77bVRWVqJz587YtGkTHnroIbFLMyoMQAamHgHiHCAiItIDOzs7bN++XewyjB4nQRsYJ0ETERGJjwHIwHgKjIiISHwMQAbGSdBERETiYwAysNtHgHgHAiIiInEwABmYag5QpbwSpVV6uO07ERERNYgByMDsre1hb618Ng0nQhMREYmDAUgEnAhNRES3W7duHdq0aSN2Ga0KA5AIOBGaiMi4SSSSel+jR49u9rYDAwOxePFijWXx8fE4c+ZMy4puBLlcjuTkZHTp0gV2dnZwc3PDvffei7Vr1+p938aGN0IUAUeAiIiMW15envr9xo0b8eabb+L06dPqZXZ2djrdn52dnc63qc28efOwatUqLF26FJGRkZDJZDh06BBu3Liht31WVVXBxsZGb9tvLo4AiYA3QyQiMm5eXl7ql4uLCyQSicay3bt3IyIiAlKpFB06dMD8+fNRU1OjXn/evHnw9/eHra0tfHx8MHnyZADKJ6pfunQJiYmJ6tEkoPYpsHnz5qFHjx746quvEBgYCBcXFwwfPhwlJSXqNiUlJRg5ciQcHBzg7e2NRYsW4YEHHsDUqVPr7Ncvv/yCCRMm4KmnnkJQUBC6d++OsWPHIikpSd1GoVDg/fffR6dOnWBrawt/f3+888476u+PHTuGvn37ws7ODu7u7njxxRdRWvrfRT2jR4/G0KFDkZycDB8fHwQHBwMArl69ivj4eLi6usLd3R1DhgzBxYsXm3V8dIEBSAQ8BUZEZLq2bt2KZ599FpMnT8bJkyfx2WefYd26deqQ8MMPP2DRokX47LPPcPbsWfz888/o2rUrAODHH3+Er68vFixYgLy8PI2RpjudP38eP//8M7Zs2YItW7Zg165deO+999TfJyUlYd++fdi8eTPS0tKwZ88eHD58uN7avby88Mcff+Dff+v++zNr1iy8//77mDNnDk6ePIlvv/0Wnp6eAJQPWh04cCBcXV1x8OBBfP/999i+fTsmTZqksY0dO3YgOzsbaWlp2LJlC8rKyvDggw/C0dERu3fvxt69e+Ho6IiBAweiqqqq/l+4vggiW7ZsmRAYGCjY2toK4eHhwu7du+ttv3PnTiE8PFywtbUVgoKChBUrVmh836dPHwFArdfgwYMbXVNxcbEAQCguLm5Wnxryzu53BMyDMObnMXrZPhGRMSkvLxdOnjwplJeXq5cpFAqhtLLU4C+FQtHk+teuXSu4uLioP8fGxgrvvvuuRpuvvvpK8Pb2FgRBED7++GMhODhYqKqq0rq9gIAAYdGiRfXuY+7cuYK9vb0gk8nUy1599VUhKipKEARBkMlkgrW1tfD999+rv79586Zgb28vTJkypc6+nDhxQggJCREsLCyErl27Ci+99JKQmpqq/l4mkwm2trbC559/rnX9VatWCa6urkJpaal62a+//ipYWFgI+fn5giAIwvPPPy94enoKlZWV6jYpKSlC586dNX7/lZWVgp2dnbB169Y669VG278nlab8/RZ1DtDGjRsxdepULF++HL1798Znn32GQYMG4eTJk/D396/VPicnB4MHD8b48ePx9ddfY9++fZgwYQLatm2LYcOGAVCm69vTZFFREbp3746nnnrKYP1qCB+ISkStXVl1GRyTHQ2+39JZpXCwcWjRNjIyMnDw4EGN00JyuRwVFRUoKyvDU089hcWLF6NDhw4YOHAgBg8ejEcffRRWVk37kxsYGAgnJyf1Z29vbxQUFAAALly4gOrqavTq1Uv9vYuLCzp37lzvNkNDQ3H8+HFkZGRg79692L17Nx599FGMHj0aq1evRnZ2NiorK9GvXz+t62dnZ6N79+5wcPjvd9i7d28oFAqcPn1aPVLUtWtXjXk/GRkZOHfunEZ/AKCiogLnz59v5G9Et0QNQAsXLsTYsWMxbtw4AMDixYuxdetWrFixAsnJybXar1y5Ev7+/urZ8yEhITh06BA++ugjdQByc3PTWGfDhg2wt7c3qgDESdBERKZLoVBg/vz5eOKJJ2p9J5VK4efnh9OnTyMtLQ3bt2/HhAkT8OGHH2LXrl2wtrZu9H7ubCuRSKBQKABA/SQB1RwiFaERTxiwsLBAz5490bNnTyQmJuLrr7/Gc889h9mzZzc4EVsQhFr7vL0+ldsDEqD8nUVEROCbb76ptV7btm0brFkfRAtAVVVVyMjIwMyZMzWWx8XFYf/+/VrXSU9PR1xcnMayAQMGICUlBdXV1Vr/YaWkpGD48OG1DsbtKisrUVlZqf4sk8ma0pUm4yRoImrt7K3tUTrL8HfDV92ItiXCw8Nx+vRpdOrUqc42dnZ2eOyxx/DYY49h4sSJ6NKlC44dO4bw8HDY2NhALpe3qIaOHTvC2toaf//9N/z8/AAo/3adPXsWffr0adK2QkNDAQC3bt3CXXfdBTs7O+zYsUM9OHFn2y+++AK3bt1S/13dt28fLCws1JOdtQkPD8fGjRvRrl07ODs7N6k+fREtABUWFkIul6uHy1Q8PT2Rn5+vdZ38/Hyt7WtqalBYWAhvb2+N7/7++28cP34cKSkp9daSnJyM+fPnN6MXzaMaAeIkaCJqrSQSSYtPRYnlzTffxCOPPAI/Pz889dRTsLCwwNGjR3Hs2DG8/fbbWLduHeRyOaKiomBvb4+vvvoKdnZ2CAgIAKA8tbV7924MHz4ctra28PDwaHINTk5OeP755/Hqq6/Czc0N7dq1w9y5c2FhYVHnCA0APPnkk+jduzdiYmLg5eWFnJwczJo1C8HBwejSpQusrKwwY8YMvPbaa7CxsUHv3r3x77//4sSJExg7dixGjhyJuXPn4vnnn8e8efPw77//4pVXXsFzzz1X6+/z7UaOHIkPP/wQQ4YMwYIFC+Dr64vc3Fz8+OOPePXVV+Hr69vk30FLiX4VmLbhu/oOXl3DfdrWSUlJQVhYmMY5Um1mzZqF4uJi9evy5cuNLb9ZVHOAiiuLUS2v1uu+iIhItwYMGIAtW7YgLS0NPXv2xL333ouFCxeqA06bNm3w+eefo3fv3ujWrRt27NiBX375Be7u7gCABQsW4OLFi+jYsWOLTv8sXLgQ0dHReOSRR/DQQw+hd+/eCAkJgVQqrbf2X375BY8++iiCg4Px/PPPo0uXLti2bZt6jtKcOXMwbdo0vPnmmwgJCUF8fLx67pG9vT22bt2K69evo2fPnnjyySfRr18/LF26tN5a7e3tsXv3bvj7++OJJ55ASEgIxowZg/LyctFGhCRCY04Y6kFVVRXs7e3x/fff4/HHH1cvnzJlCrKysrBr165a69x///2455578Mknn6iX/fTTT3j66adRVlamcQqsrKwM3t7eWLBgAaZMmdKk2mQyGVxcXFBcXKyXA6MQFLB+yxoKQYFrSdfg7eTd8EpERCaqoqICOTk5CAoKqvePM7XMrVu30L59e3z88ccYO3as2OXoTX3/npry91u0ESAbGxtEREQgLS1NY3laWhpiYmK0rhMdHV2r/bZt2xAZGVlr/s93332HyspKPPvss7otXAcsJBZwt1P+PwFOhCYioubIzMzE+vXrcf78eRw+fBgjR44EAAwZMkTkykyDqKfAkpKSsHr1aqxZswbZ2dlITExEbm4uEhISAChPTY0aNUrdPiEhAZcuXUJSUhKys7OxZs0apKSkYPr06bW2nZKSgqFDh6qHHI0NJ0ITEVFLffTRR+jevTseeugh3Lp1C3v27GnWnKLWSNTL4OPj41FUVKS+I2ZYWBhSU1PV51Hz8vKQm5urbh8UFITU1FQkJiZi2bJl8PHxwZIlS9SXwKucOXMGe/fuxbZt2wzanwZduwb8/DNgZ8eJ0ERE1CL33HMPMjIyxC7DZIn+MNQJEyZgwoQJWr9bt25drWV9+vRp8FbfwcHBjboXgsHl5AATJwIdO6Ltuz0A8BQYERGRGES/CqxVcXFR/iwu5t2giYiIRMQAZEi3BSAPe06CJqLWxShH5snk6OrfEQOQIakCUHU12tq4AuAIEBGZP9VVumVlZSJXQuZA9bxPS0vLFm1H9DlArYqjIyCRAIIAD0H5vBVOgiYic2dpaYk2bdpo3EyvvhveEtVFoVDg33//hb29fZMfLnsnBiBDsrAAnJ2Vc4AUygDEU2BE1Bp4eXkBgDoEETWXhYUF/P39WxyiGYAMzcVFGYBqbADwFBgRtQ4SiQTe3t5o164dqqv5CCBqPhsbG1hYtHwGDwOQof1vHpBHhfLgFZYVNvj8MyIic2FpadniuRtEusBJ0IamCkD/mwtYo6hBcWWxiAURERG1PgxAhva/ACQtKYejjSMAToQmIiIyNAYgQ9NyM0ROhCYiIjIsBiBDuz0A8YGoREREomAAMjRnZ+XP4mL1A1E5AkRERGRYDECGpu15YJwDREREZFAMQIam8Tww5QgQT4EREREZFgOQoXESNBERkegYgAyNk6CJiIhExwBkaFpOgXEEiIiIyLAYgAyNk6CJiIhExwBkaJwETUREJDoGIENTBaDKSrS1Ut4TqLSqFBU1FSIWRURE1LowABmak5P6rUsFYGVhBYDzgIiIiAyJAcjQLC3VIUgik3EiNBERkQgYgMTAidBERESiYgASAydCExERiYoBSAxabobIU2BERESGwwAkBp4CIyIiEhUDkBh4N2giIiJRMQCJQdsIEOcAERERGQwDkBg4CZqIiEhUDEBiUAUgmYyToImIiETAACQGbSNAnARNRERkMAxAYtAyB6iovAgKQSFiUURERK0HA5AYtIwAKQQFbpTfELEoIiKi1kP0ALR8+XIEBQVBKpUiIiICe/bsqbf9rl27EBERAalUig4dOmDlypW12ty8eRMTJ06Et7c3pFIpQkJCkJqaqq8uNN1tAcja0houtsrPnAhNRERkGKIGoI0bN2Lq1KmYPXs2MjMzERsbi0GDBiE3N1dr+5ycHAwePBixsbHIzMzE66+/jsmTJ2PTpk3qNlVVVejfvz8uXryIH374AadPn8bnn3+O9u3bG6pbDbstAAHgRGgiIiIDsxJz5wsXLsTYsWMxbtw4AMDixYuxdetWrFixAsnJybXar1y5Ev7+/li8eDEAICQkBIcOHcJHH32EYcOGAQDWrFmD69evY//+/bC2tgYABAQEGKZDjXVHAPKw98C56+c4EZqIiMhARBsBqqqqQkZGBuLi4jSWx8XFYf/+/VrXSU9Pr9V+wIABOHToEKqrqwEAmzdvRnR0NCZOnAhPT0+EhYXh3XffhVwu109HmsPZWfmzvByorlZPhOYIEBERkWGINgJUWFgIuVwOT09PjeWenp7Iz8/Xuk5+fr7W9jU1NSgsLIS3tzcuXLiAP/74AyNHjkRqairOnj2LiRMnoqamBm+++abW7VZWVqKyslL9WSaTtbB3DVAFIIB3gyYiIhKB6JOgJRKJxmdBEGota6j97csVCgXatWuHVatWISIiAsOHD8fs2bOxYsWKOreZnJwMFxcX9cvPz6+53WkcKyvAwUH5/rYnwueV5Ol3v0RERARAxADk4eEBS0vLWqM9BQUFtUZ5VLy8vLS2t7Kygru7OwDA29sbwcHBsLS0VLcJCQlBfn4+qqqqtG531qxZKC4uVr8uX77ckq41zm3zgELbhgIAMvMz9b9fIiIiEi8A2djYICIiAmlpaRrL09LSEBMTo3Wd6OjoWu23bduGyMhI9YTn3r1749y5c1Ao/rup4JkzZ+Dt7Q0bGxut27W1tYWzs7PGS+9uC0C92vcCABzOO4xqebX+901ERNTKiXoKLCkpCatXr8aaNWuQnZ2NxMRE5ObmIiEhAYByZGbUqFHq9gkJCbh06RKSkpKQnZ2NNWvWICUlBdOnT1e3efnll1FUVIQpU6bgzJkz+PXXX/Huu+9i4sSJBu9fvW4LQMHuwXCxdUF5TTmOFxwXty4iIqJWQNTL4OPj41FUVIQFCxYgLy8PYWFhSE1NVV+2npeXp3FPoKCgIKSmpiIxMRHLli2Dj48PlixZor4EHgD8/Pywbds2JCYmolu3bmjfvj2mTJmCGTNmGLx/9botAFlILNCrfS+kXUjDgasHcI/3PeLWRkREZOYkgmoWManJZDK4uLiguLhYf6fD4uOB774DPvkEmDwZc/6Yg7f3vI0XeryANUPW6GefREREZqwpf79Fvwqs1brjZoiqeUAHrh4QqyIiIqJWgwFILHcEoCjfKABA9r/ZkFXq+T5ERERErRwDkFjuCEDtHNohsE0gBAg4ePWgiIURERGZPwYgsdwRgID/ToP9ffVvMSoiIiJqNRiAxKIlAEW1V54G4zwgIiIi/WIAEksDAYgX5xEREekPA5BYtASgcO9wWEoskV+ajyuyKyIVRkREZP4YgMSiJQDZWduhm2c3ADwNRkREpE8MQGLREoCA206DXWEAIiIi0hcGILGoAlBZGVBTo16suh8QR4CIiIj0hwFILLffolv2340PVZfCZ+RloEZRc+daREREpAMMQGKxtgbs7ZXvbzsN1sWjC5xtnVFWXYYTBSdEKo6IiMi8MQCJScs8IAuJBXr69ATA02BERET6wgAkpgYmQvOO0ERERPrBACSmOgIQnwxPRESkXwxAYqprBOh/V4KdKDiBksoSQ1dFRERk9hiAxFRHAPJy9IK/iz8ECDh07ZAIhREREZk3BiAx1RGAAD4ZnoiISJ8YgMSkuheQlgDEJ8MTERHpDwOQmOoZAWIAIiIi0h8GIDHVE4BUT4a/VnINV2VXDVwYERGReWMAElM9AcjBxgFh7cIAcBSIiIhI1xiAxFRPAAL4ZHgiIiJ9YQASU0MBiE+GJyIi0gsGIDE1EIBUl8IfunYIcoXcUFURERGZPQYgMTUQgEI8QuBo44hb1bdw8t+TBiyMiIjIvDEAiUkVgEpLAXntER5LC0s+GZ6IiEgPGIDEpApAACCTaW3CJ8MTERHpHgOQmGxsAKlU+b6BeUAcASIiItIdBiCxNfJKsOMFx1FaVWqoqoiIiMwaA5DYGghAPk4+8HX2hUJQIONahgELIyIiMl8MQGJrIAABfDI8ERGRrjEAia0RAYgPRiUiItItBiCxqQJQHVeBAQxAREREuiZ6AFq+fDmCgoIglUoRERGBPXv21Nt+165diIiIgFQqRYcOHbBy5UqN79etWweJRFLrVVFRoc9uNF8jRoAifCJgIbHAFdkVXCu5ZqDCiIiIzJeoAWjjxo2YOnUqZs+ejczMTMTGxmLQoEHIzc3V2j4nJweDBw9GbGwsMjMz8frrr2Py5MnYtGmTRjtnZ2fk5eVpvKSqy82NTSMCkKONI+5uezcAzgMiIiLSBVED0MKFCzF27FiMGzcOISEhWLx4Mfz8/LBixQqt7VeuXAl/f38sXrwYISEhGDduHMaMGYOPPvpIo51EIoGXl5fGy2g1IgABfDI8ERGRLokWgKqqqpCRkYG4uDiN5XFxcdi/f7/WddLT02u1HzBgAA4dOoTq6mr1stLSUgQEBMDX1xePPPIIMjMz662lsrISMplM42UwjQ1AfDI8ERGRzogWgAoLCyGXy+Hp6amx3NPTE/n5+VrXyc/P19q+pqYGhYWFAIAuXbpg3bp12Lx5M9avXw+pVIrevXvj7NmzddaSnJwMFxcX9cvPz6+FvWuCRgYgPhmeiIhId0SfBC2RSDQ+C4JQa1lD7W9ffu+99+LZZ59F9+7dERsbi++++w7BwcH49NNP69zmrFmzUFxcrH5dvny5ud1pukYGoLvb3g0HaweUVJXgVOEpAxRGRERkvkQLQB4eHrC0tKw12lNQUFBrlEfFy8tLa3srKyu4u7trXcfCwgI9e/asdwTI1tYWzs7OGi+DaWQAsrSwRKRPJACeBiMiImop0QKQjY0NIiIikJaWprE8LS0NMTExWteJjo6u1X7btm2IjIyEtbW11nUEQUBWVha8vb11U7iuNTIAAXwyPBERka6IegosKSkJq1evxpo1a5CdnY3ExETk5uYiISEBgPLU1KhRo9TtExIScOnSJSQlJSE7Oxtr1qxBSkoKpk+frm4zf/58bN26FRcuXEBWVhbGjh2LrKws9TaNThMCEJ8MT0REpBtWYu48Pj4eRUVFWLBgAfLy8hAWFobU1FQEBAQAAPLy8jTuCRQUFITU1FQkJiZi2bJl8PHxwZIlSzBs2DB1m5s3b+LFF19Efn4+XFxccM8992D37t3o1auXwfvXKKoAVFICKBSARd2ZVHUl2LF/jqGsugz21vaGqJCIiMjsSATVLGJSk8lkcHFxQXFxsf7nA1VUAHZ2yvc3b/4XiOrQfmF7XCu5ht2jdyM2IFa/tREREZmQpvz9Fv0qsFZPKgVsbJTvm3AajPOAiIiImo8ByBg0YyI05wERERE1HwOQMWAAIiIiMigGIGPQhAAU6RMJCSTILc5Ffqn2O2YTERFR/RiAjEETApCTrRNC24YC4DwgIiKi5mIAMgZNCEAAnwxPRETUUgxAxqCpAYhPhiciImoRBiBj0MQApLoU/uC1g1AICn1VRUREZLYYgIyB6kGu//zTqOZh7cJgb20PWaUMpwtP67EwIiIi88QAZAzuukv588yZRjW3srBChHcEAJ4GIyIiag4GIGPQubPy5+nGj+bwyfBERETNxwBkDIKDlT8LC4Hr1xu1Cp8MT0RE1HwMQMbAwQHw9VW+b+QokOpKsKP/HEV5dbm+KiMiIjJLDEDGoomnwfyc/eDl6IUaRQ0O5x3WY2FERETmhwHIWKgC0KlTjWoukUj4ZHgiIqJmYgAyFi2YCM15QERERE3DAGQsGICIiIgMhgHIWKgC0LlzQE1No1ZRPRn+4s2LKLhVoMfiiIiIzAsDkLHw9wekUqC6Grh4sVGruEhd0MWjCwDOAyIiImoKBiBjYWHx3x2hm3IazJdPhiciImoqBiBjwnlAREREBsEAZEy6KE9nNSUA8cnwRERETccAZEyaMQLUtV1XSK2kuFlxE2eLzuqpMCIiIvPCAGRMmhGArC2t+WR4IiKiJmIAMiaqAJSfD8hkjV6NT4YnIiJqGgYgY+LsDHh5Kd83Yx4QR4CIiIgahwHI2DTnSrD/XQp/JP8IKmoq9FEVERGRWWEAMjbNCEABLgFo59AO1YpqZOZl6qkwIiIi88EAZGyaEYD4ZHgiIqKmYQAyNs0IQABviEhERNQUDEDGRhWAzp4FFI2/sSEDEBERUeMxABmbwEDA2hooLwcuX270aj3b9wQAXLhxAYVlhXoqjoiIyDwwABkbKyugUyfl+yacBmsjbYPO7srRI84DIiIiql+TA1BNTQ2srKxw/PhxnRSwfPlyBAUFQSqVIiIiAnv27Km3/a5duxAREQGpVIoOHTpg5cqVdbbdsGEDJBIJhg4dqpNaDUZ1GuzUqSatxifDExERNU6TA5CVlRUCAgIgl8tbvPONGzdi6tSpmD17NjIzMxEbG4tBgwYhNzdXa/ucnBwMHjwYsbGxyMzMxOuvv47Jkydj06ZNtdpeunQJ06dPR2xsbIvrNDhOhCYiItKrZp0Ce+ONNzBr1ixcv369RTtfuHAhxo4di3HjxiEkJASLFy+Gn58fVqxYobX9ypUr4e/vj8WLFyMkJATjxo3DmDFj8NFHH2m0k8vlGDlyJObPn48OHTq0qEZRNDMA3X4pvCAIuq6KiIjIbFg1Z6UlS5bg3Llz8PHxQUBAABwcHDS+P3z4cIPbqKqqQkZGBmbOnKmxPC4uDvv379e6Tnp6OuLi4jSWDRgwACkpKaiuroa1tTUAYMGCBWjbti3Gjh3b4Ck1AKisrERlZaX6s6wJz+HSi2YGoG6e3WBraYsbFTdw7vo53OV+lx6KIyIiMn3NCkC6mFNTWFgIuVwOT09PjeWenp7Iz8/Xuk5+fr7W9jU1NSgsLIS3tzf27duHlJQUZGVlNbqW5ORkzJ8/v8l90BtVALpyBbh1C7gjYNbFxtIG4d7hSL+SjgNXDzAAERER1aFZAWju3Lk6K0AikWh8FgSh1rKG2quWl5SU4Nlnn8Xnn38ODw+PRtcwa9YsJCUlqT/LZDL4+fk1en2dc3dXvoqKgDNngHvuafSqUe2jlAHoygE82+1ZPRZJRERkupoVgFQyMjKQnZ0NiUSC0NBQ3NOEP9QeHh6wtLSsNdpTUFBQa5RHxcvLS2t7KysruLu748SJE7h48SIeffRR9feK/91M0MrKCqdPn0bHjh1rbdfW1ha2traNrt0gunQB9u1TngZrwu9VPQ/oGi+FJyIiqkuzAlBBQQGGDx+OnTt3ok2bNhAEAcXFxXjwwQexYcMGtG3btsFt2NjYICIiAmlpaXj88cfVy9PS0jBkyBCt60RHR+OXX37RWLZt2zZERkbC2toaXbp0wbFjxzS+f+ONN1BSUoJPPvlE3FGdpurc+b8A1ASqS+Gz8rNQWVMJWysjC3ZERERGoFlXgb3yyiuQyWQ4ceIErl+/jhs3buD48eOQyWSYPHlyo7eTlJSE1atXY82aNcjOzkZiYiJyc3ORkJAAQHlqatSoUer2CQkJuHTpEpKSkpCdnY01a9YgJSUF06dPBwBIpVKEhYVpvNq0aQMnJyeEhYXBxsamOd0VRzMnQge1CYKHvQeq5FXIys/SfV1ERERmoFkjQL///ju2b9+OkJAQ9bLQ0FAsW7as1lVa9YmPj0dRUREWLFiAvLw8hIWFITU1FQEBAQCAvLw8jXsCBQUFITU1FYmJiVi2bBl8fHywZMkSDBs2rDndMG7NDECqJ8Onnk3F31f/Vo8IERER0X+aFYAUCoX6kvPbWVtbq+fcNNaECRMwYcIErd+tW7eu1rI+ffo06jL7+rZhElQB6MwZQBCAeiaG3ymqfRRSz6biwNUDeAWv6KlAIiIi09WsU2B9+/bFlClTcO3aNfWyq1evIjExEf369dNZca1ahw6ApSVQWgrc9ntuDN4RmoiIqH7NCkBLly5FSUkJAgMD0bFjR3Tq1AlBQUEoKSnBp59+qusaWycbG2UIApp8Gkz1ZPhz18+hqKxI15URERGZvGadAvPz88Phw4eRlpaGU6dOQRAEhIaG4qGHHtJ1fa1b587A2bPKANS3b6NXc7Nzw11ud+Hs9bM4eO0gBnYaqMciiYiITE+TA1BNTQ2kUimysrLQv39/9O/fXx91EaAMQFu2NHkECFBeDn/2+lkcuHKAAYiIiOgOoj4NnhrQzCvBAM4DIiIiqo+oT4OnBrQgAPHJ8ERERHUT7Wnw1AiqAHTxIlBRAUiljV61u2d32FjaoKi8CBduXEBHt9qPACEiImqtRHsaPDVCu3aAiwtQXKycDN21a6NXtbWyxT1e9+DA1QM4cPUAAxAREdFtmjUJGgDGjBljWs/WMkUSiXIU6O+/lafBmhCAAOU8oANXD+DAlQN4puszeiqSiIjI9DRrEvRHH33ESdCGoot5QHwyPBERkYZmTYLu168fdu7cqeNSSKuWXAn2v+eAZeZlokpepcuqiIiITFqz5gANGjQIs2bNwvHjxxEREVFrEvRjjz2mk+IILQpAHV07ws3ODdfLr+NI/hH1HaKJiIhau2YFoJdffhkAsHDhwlrfSSQSnh7TpdsDUBMfiiqRSHCv771IPZuKNZlrGICIiIj+p1mnwBQKRZ0vhh8d69RJGXqKi4GCgiavPj16OgBgZcZK7Lq4S9fVERERmaQmBaDBgwejuLhY/fmdd97BzZs31Z+LiooQGhqqs+IIgJ0dEBiofN+M02APBj2IF8NfBACM3TwWZdVlOiyOiIjINDUpAG3duhWVlZXqz++//77G3aBrampwuhl/pKkBLZgHBAAf9P8Avs6+OH/jPN78800dFkZERGSamhSA7nykAh+xYCAtDEAuUhd89shnAIBFfy3CgSt8PhgREbVuzZoDRAbWwgAEAIPvGoznuj0HhaDAmM1jUFlT2fBKREREZqpJAUgikUByx1VId34mPdBBAAKARQMWoZ1DO5z89yTe3v22DgojIiIyTU26DF4QBIwePRq2trYAgIqKCiQkJKjvA3T7/CDSIVUAunABqKoCbGyatRl3e3csH7wcT37/JJL3JmNY6DD08OqhuzqJiIhMhERowkSeF154oVHt1q5d2+yCjIFMJoOLiwuKi4vh7OwsdjnK+/84OwOlpUB2NtClS4s299T3T+GHkz8oH5Y67gCsLa11VCgREZF4mvL3u0kBqLUwugAEABERwOHDwM8/A0OGtGhT/5T+g9Dlobhefh3v9H0Hr8e+rpsaiYiIRNSUv9+cBG0qdDQPCAA8HT3xycBPAADzd81H9r/ZLd4mERGRKWEAMhU6DEAAMLLrSAy+azCq5FUYs3kM5ArewZuIiFoPBiBToeMAJJFI8Nkjn8HZ1hl/XfkLSw4s0cl2iYiITAEDkKnQcQACAF9nX3zU/yMAwOw/ZuP89fM62zYREZExYwAyFcHByp+FhUBRkc42Oy58HPoG9UV5TTnG/TIOCkGhs20TEREZKwYgU+HgAPj6Kt/rcBRIIpHg80c/h721PXZe3InPMz7X2baJiIiMFQOQKdHDaTAA6ODaAe/2fRcA8Graq8gtztXp9omIiIwNA5Ap0VMAAoBJvSYhxi8GJVUleGnLS3zQLRERmTUGIFOixwBkaWGJlMdSYGtpi9/P/Y6vjn6l830QEREZCwYgU6LHAAQAXTy6YN4D8wAAU3+fivzSfL3sh4iISGwMQKZEFYDOnQNqavSyi+kx0xHhHYEbFTcw4dcJPBVGRERmSfQAtHz5cgQFBUEqlSIiIgJ79uypt/2uXbsQEREBqVSKDh06YOXKlRrf//jjj4iMjESbNm3g4OCAHj164KuvzOR0jr8/IJUC1dXAxYt62YWVhRVSHkuBlYUVfjr1E344+YNe9kNERCQmUQPQxo0bMXXqVMyePRuZmZmIjY3FoEGDkJur/SqknJwcDB48GLGxscjMzMTrr7+OyZMnY9OmTeo2bm5umD17NtLT03H06FG88MILeOGFF7B161ZDdUt/LCz+ux+Qnk6DAUB3r+54/T7lA1In/TYJhWWFetsXERGRGER9GnxUVBTCw8OxYsUK9bKQkBAMHToUycnJtdrPmDEDmzdvRnb2fw/vTEhIwJEjR5Cenl7nfsLDw/Hwww/jrbfealRdRvk0eJWnnwa+/x74+GMgKUlvu6mSVyFiVQSOFxzHyK4j8fUTX+ttX0RERLpgEk+Dr6qqQkZGBuLi4jSWx8XFYf/+/VrXSU9Pr9V+wIABOHToEKqrq2u1FwQBO3bswOnTp3H//ffrrngx6XkitIqNpQ3WPLYGFhILfHPsG2w5s0Wv+yMiIjIk0QJQYWEh5HI5PD09NZZ7enoiP1/71Uf5+fla29fU1KCw8L/TNMXFxXB0dISNjQ0efvhhfPrpp+jfv3+dtVRWVkImk2m8jJaBAhAA9GzfE9OipwEAXtryEm5W3NT7PomIiAxB9EnQEolE47MgCLWWNdT+zuVOTk7IysrCwYMH8c477yApKQk7d+6sc5vJyclwcXFRv/z8/JrREwMxYAACgPkPzMddbnfhWsk1DPx6IP4p/ccg+yUiItIn0QKQh4cHLC0ta432FBQU1BrlUfHy8tLa3srKCu7u7uplFhYW6NSpE3r06IFp06bhySef1DqnSGXWrFkoLi5Wvy5fvtyCnumZKgDl5wMGGKmys7bDt8O+havUFQeuHkDU6iicKDih9/0SERHpk2gByMbGBhEREUhLS9NYnpaWhpiYGK3rREdH12q/bds2REZGwtraus59CYKAysrKOr+3tbWFs7OzxstoOTsDXl7K9wYaBYr0icRf4/5CJ7dOuFR8CTFrYpB2Pq3hFYmIiIyUqKfAkpKSsHr1aqxZswbZ2dlITExEbm4uEhISAChHZkaNGqVun5CQgEuXLiEpKQnZ2dlYs2YNUlJSMH36dHWb5ORkpKWl4cKFCzh16hQWLlyIL7/8Es8++6zB+6c3Bj4NBgDB7sH4a+xfiPWPhaxShkHfDMKqjFUG2z8REZEuWYm58/j4eBQVFWHBggXIy8tDWFgYUlNTERAQAADIy8vTuCdQUFAQUlNTkZiYiGXLlsHHxwdLlizBsGHD1G1u3bqFCRMm4MqVK7Czs0OXLl3w9ddfIz4+3uD905vOnYFduwwagADA3d4dac+lYdwv4/D10a/x0paXcKboDD7o/wEsJKJPJyMiImo0Ue8DZKyM+j5AALBwITBtGvDUU8B33xl894Ig4O3db+PNnW8CAIZ2GYqvH/8aDjYOBq+FiIhIxSTuA0QtoDoFduqUKLuXSCSY02cOvn3iW9hY2uDnUz+jz7o+yCvJE6UeIiKipmIAMkWqAHT2LKBQiFbGiK4j8MeoP+Bh74GMvAxErY7C0X+OilYPERFRYzEAmaLAQMDaGqioAOp4bpqh9Pbvjb/G/oXO7p1xWXYZvdf0RurZVFFrIiIiaggDkCmysgI6dVK+N/BEaG06unVE+th0PBj4IEqrSvHo+kex7O9lYpdFRERUJwYgUyXCpfD1cbVzxe/P/o4xPcZAISgw6bdJmPr7VMgVcrFLIyIiqoUByFQZWQAClA9QXf3YaiT3U951+5MDn2DoxqEorSoVuTIiIiJNDECmyggDEKC8QmzmfTPx3ZPfQWolxZYzWxC7NhZXZFfELo2IiEiNAchUGWkAUnnq7qew8/mdaOfQDln5WYhaHYXMvEyxyyIiIgLAAGS6VAHoyhXg1i1xa6lDlG8UDow7gNC2obhWcg33rb0PU3+fivXH1uP89fPgPTiJiEgsvBO0FkZ/J2iVtm2BwkLg8GHgnnvErqZOxRXFeOr7p5B2QfMBqh72HujVvhd6+fRClG8UerXvBTc7N5GqJCIiU9eUv98MQFqYTAC67z5g3z5g/Xpg+HCxq6lXjaIGP2b/iL25e/H31b+RmZ+JKnlVrXad3Dohqn0UotorA1EPrx6wtbIVoWIiIjI1Tfn7LerDUKmFOndWBiAjnQd0OysLKzx999N4+u6nAQCVNZU48s8R/H31bxy4egAHrhzA2etnce76OZy7fg7fHPsGgPLKsh5ePdSjRFHto9DJrRMkEomY3SEiIhPHESAtTGYE6IMPgBkzgBEjgG+/FbuaFrtefh0Hrx7EgasH1MGosKywVjtXqSt6te+lHiWK8o2Ch72HCBUTEZEx4SmwFjKZAPR//wcMHQqEhwMZGWJXo3OCICDnZg4OXPkvEB3OO4xKeWWtth1dO+LxLo9jRNcRuMfrHo4QERG1QgxALWQyAejUKSAkBHB0BGQyoBX80a+SV+HYP8eUp83+N1J0qvCURpvO7p0xImwERnQdgWD3YJEqJSIiQ2MAaiGTCUBVVYC9PSCXKy+Hb99e7IpEcbPiJv7M+RPrj6/HL2d+QUVNhfq7CO8IPNP1GcTfHY/2zq3z90NE1FowALWQyQQgAAgOBs6eBXbsAPr2Fbsa0ckqZfi/U/+H9cfXY9v5bZALymeRSSBBn8A+GBE2AsNChsHd3l3kSomISNcYgFrIpALQo48CW7YAy5cDL78sdjVG5d9b/+KHkz/g2+PfYm/uXvVyKwsrDOw0ECPCRuCxzo/B0cZRxCqJiEhXmvL3m3eCNnVG/kgMMbV1aIuXe76MPS/swaWpl/D+Q++jh1cP1ChqsOXMFoz8cSQ8P/LEiE0j8MvpX7Tel4iIiMwTR4C0MKkRoM8/B158ERgwAPj9d7GrMQnZ/2Zj/fH1+PbYtzh/47x6uavUFU+GPokRYSNwf8D9sLSwFLFKIiJqKp4CayGTCkC7dwN9+gCBgUBOjtjVmBRBEHDo2iF8e+xbbDyxEXmleervfJx8EH93PJ7p+gwivCN4WT0RkQlgAGohkwpA//wDeHkpL4G/dQuwsxO7IpMkV8ix+9JufHvsW/yQ/QNuVtxUf+fv4o+7296Njq4d0cmtk/oV2CaQj+kgIjIiDEAtZFIBSBAAV1eguBg4ehTo2lXsikxeZU0ltp7fivXH1+P/Tv0fymvKtbazkFjAz9lPIxR1cuuEjq4d0dGtI+yt7Q1cORFR68YA1EImFYAAICoK+Ptv4PvvgSefFLsas1JaVYqDVw/i/I3zOHf9nPrnuevnUFpVWu+6Pk4+ylDk2gkd3TpqBCQXqYuBekBE1HrwYaitTefOygDEK8F0ztHGEQ8GPYgHgx7UWC4IAgpuFdQKRarXjYobuFZyDddKrmH3pd21tuth7/HfqJHr/4LR/0KSu5075xwREekZA5A54KXwBieRSODp6AlPR0/09u9d6/vr5ddx/vptwejGOfXnf279g8KyQhSWFeKvK3/VWtfF1kVjtOj202tejl4MR0REOsAAZA4YgIyOm50b3Nq7oWf7nrW+K6kswfkb52sFpHPXz+GK7AqKK4uRkZeBjLzaD7i1t7avFYpUQcnX2ZeX7hMRNRLnAGlhcnOAjh9XTn52cQFu3GgVD0U1V+XV5ci5maNxOk11iu3izYtQCIo617WxtEEH1w5a5x0FuATA2tLagD0hIjI8ToJuIZMLQBUVyoeiCgKQnw94eopdEelBlbwKl25e0jrnKOdmTr13sraUWCKgTYDGnCPVvKMOrh0gtZIasCdERPrBANRCJheAAKBDB+WNEHftAu6/X+xqyMDkCjmuyK5oHTk6d/1cnZfyA8oHxXo7ecPD3kN56s7ODW5SN/V7VzvX/5bf9nKwduB8JCIyKrwKrDXq3FkZgE6fZgBqhSwtlCM8AW0C0K9DP43vBEFAXmmeMhSp5h3d+C8oySpl6ivWmsLawlp7SJLWDku3f+9i68K5SkQkOgYgc9G5s/JZYJwITXeQSCTwcfKBj5MP7g/QDMeCIKCovAiXbl7C9fLrtV8V/72/UX4D18uvo6i8CFXyKlQrqvHPrX/wz61/mlYPJGgjbVM7JEm1jzTdHqJsLG10+asholaMAchc8EowagaJRAIPew942Hs0eh1BEFBeU649MN0elipqLy+tKoUAATcqbuBGxQ2Nh9E2hoO1Q70hqa4gZW9tz9N1RKSBAchcMACRgUgkEthb28Pe2h6+zr5NWrdKXqUeSbpefh03Km7UG6RUr5sVNyFAwK3qW7hVfQuXZZebtF8bSxu4Sl3hYOMAB2uH2j+1LLO3tq+7/W1teDqPyDSJHoCWL1+ODz/8EHl5ebj77ruxePFixMbG1tl+165dSEpKwokTJ+Dj44PXXnsNCQkJ6u8///xzfPnllzh+/DgAICIiAu+++y569eql976IShWALlwAqqoAG54qIONjY2mjvoFkUygEBYoriusPSnWcrqtR1KBKXqU8VXdL932SWklrhSN7a/sGA1Z9P1Xr21jacOSKSE9EDUAbN27E1KlTsXz5cvTu3RufffYZBg0ahJMnT8Lf379W+5ycHAwePBjjx4/H119/jX379mHChAlo27Ythg0bBgDYuXMnRowYgZiYGEilUnzwwQeIi4vDiRMn0L59e0N30XB8fABHR6C0VBmCunQRuyIinbGQWMDVzhWudq7oiI6NXk8QlKNGqlB0q/oWblXdatzP/70vqy6r9X1ZdRkEKC+graipQEVNBYrKi3Teb0uJZcOBqaHwVcdPO2s7WEgsdF4zkakQ9TL4qKgohIeHY8WKFeplISEhGDp0KJKTk2u1nzFjBjZv3ozs7Gz1soSEBBw5cgTp6ela9yGXy+Hq6oqlS5di1KhRjarLJC+DB4CICODwYeDnn4EhQ8SuhshsqeZB1ReitAWn24NVfT9rFDUG6Ye2sNSS0avbTxvyxpskBpO4DL6qqgoZGRmYOXOmxvK4uDjs379f6zrp6emIi4vTWDZgwACkpKSguroa1ta1/4MrKytDdXU13Nzc6qylsrISlZWV6s8ymawpXTEenTsrA9CpUwxARHp0+zyotmir8+1Xy6ubNlr1v591hq7bft5+T6iy6jKUVZfh37J/dd4HawvrJo1eNWbO1e3hylJiydOD1CKiBaDCwkLI5XJ43nHXYk9PT+Tn52tdJz8/X2v7mpoaFBYWwtvbu9Y6M2fORPv27fHQQw/VWUtycjLmz5/fjF4YGU6EJjIL1pbWaGPZBm2kbXS+bYWgUAalxoxWNTB6pW09uSAHAFQrqnGz4iZuVtzUeR9ULCWWsLKw0unL0uK2bUp0u21d18lTmC0j+iToOxO8IAj1pnpt7bUtB4APPvgA69evx86dOyGV1n2r/1mzZiEpKUn9WSaTwc/Pr1H1GxUGICJqgIXEAo42jnC0cdT5tgVBQJW8qvGjVU08PVgpr9TYn1yQQy6X11reWkggET2INSqs1RFUXe1cEe4dLtrvT7QA5OHhAUtLy1qjPQUFBbVGeVS8vLy0treysoK7u7vG8o8++gjvvvsutm/fjm7dutVbi62tLWxtbZvRCyPDAEREIpJIJLC1soWtlS3c7OqedtBccoUcZdVlqFHUiP6SC3KD7ksbAQKqFdWoVlTr/HdtCPf63ov0sdrn7xqCaAHIxsYGERERSEtLw+OPP65enpaWhiF1zF+Jjo7GL7/8orFs27ZtiIyM1Jj/8+GHH+Ltt9/G1q1bERkZqZ8OGKPgYOXPoiLl645QSERkyiwtLOFk6yR2GQYnCEKzApdcYaCQJjRvvY6ujb+iUx9EPQWWlJSE5557DpGRkYiOjsaqVauQm5urvq/PrFmzcPXqVXz55ZcAlFd8LV26FElJSRg/fjzS09ORkpKC9evXq7f5wQcfYM6cOfj2228RGBioHjFydHSEo6Puh3yNioMD4OsLXLmiHAWKiRG7IiIiaiGJRKKej0S6I+pvMz4+HkVFRViwYAHy8vIQFhaG1NRUBAQEAADy8vKQm5urbh8UFITU1FQkJiZi2bJl8PHxwZIlS9T3AAKUN1asqqrCk08+qbGvuXPnYt68eQbpl6g6d2YAIiIiaoCo9wEyViZ7HyAAmDgRWL4cmDEDeO89sashIiIymKb8/eY1dOaGE6GJiIgaxABkblSPwGAAIiIiqhMDkLlRjQCdOwfUGOZ2+kRERKaGAcjc+PkBdnZAdTVw8aLY1RARERklBiBzY2EB3HWX8j1PgxEREWnFAGSOOBGaiIioXgxA5ogBiIiIqF4MQOaIAYiIiKheDEDmiAGIiIioXgxA5kgVgPLzgeJicWshIiIyQgxA5sjZGfDyUr7nKBAREVEtDEDmiqfBiIiI6sQAZK4YgIiIiOrEAGSuGICIiIjqxABkrhiAiIiI6sQAZK5UAejsWUChELcWIiIiI8MAZK4CAwFra6CiAsjNFbsaIiIio8IAZK6srIBOnZTveRqMiIhIAwOQOeM8ICIiIq0YgMxZly7KnwxAREREGhiAzBlHgIiIiLRiADJnDEBERERaMQCZM1UAunIFuHVL3FqIiIiMCAOQOXNzAzw8lO/PnBG3FiIiIiPCAGTuVKNAJ06IWwcREZERYQAyd/fdp/z5xRfi1kFERGREGIDM3csvAxYWwPbtwPHjYldDRERkFBiAzF1AAPD448r3S5aIWwsREZGRYABqDaZOVf786iugsFDUUoiIiIwBA1Br0Ls3EBGhfDDqqlViV0NERCQ6BqDWQCIBpkxRvl+2DKiuFrceIiIikTEAtRZPPw14eQHXrgE//CB2NURERKJiAGotbG2BCROU7xctAgRB3HqIiIhEJHoAWr58OYKCgiCVShEREYE9e/bU237Xrl2IiIiAVCpFhw4dsHLlSo3vT5w4gWHDhiEwMBASiQSLFy/WY/Um5qWXABsb4OBB4K+/xK6GiIhINKIGoI0bN2Lq1KmYPXs2MjMzERsbi0GDBiE3N1dr+5ycHAwePBixsbHIzMzE66+/jsmTJ2PTpk3qNmVlZejQoQPee+89eHl5GaorpqFdO2DkSOX7Tz4RtxYiIiIRSQRBvHMhUVFRCA8Px4oVK9TLQkJCMHToUCQnJ9dqP2PGDGzevBnZ2dnqZQkJCThy5AjS09NrtQ8MDMTUqVMxVXUZeCPJZDK4uLiguLgYzs7OTVrX6B05AvToAVhaAjk5gJ+f2BURERHpRFP+fos2AlRVVYWMjAzExcVpLI+Li8P+/fu1rpOenl6r/YABA3Do0CFUt+DKpsrKSshkMo2X2ereHXjwQUAuV14RRkRE1AqJFoAKCwshl8vh6empsdzT0xP5+fla18nPz9favqamBoUtuMFfcnIyXFxc1C8/cx8VUV0Sv2oVUFYmbi1EREQiEH0StEQi0fgsCEKtZQ2117a8KWbNmoXi4mL16/Lly83elkl45BGgQwfgxg3l3aGJiIhaGdECkIeHBywtLWuN9hQUFNQa5VHx8vLS2t7Kygru7u7NrsXW1hbOzs4aL7NmaQlMnqx8/8knvCSeiIhaHdECkI2NDSIiIpCWlqaxPC0tDTExMVrXiY6OrtV+27ZtiIyMhLW1td5qNUsvvAA4OQHZ2cAdv1MiIiJzJ+opsKSkJKxevRpr1qxBdnY2EhMTkZubi4SEBADKU1OjRo1St09ISMClS5eQlJSE7OxsrFmzBikpKZg+fbq6TVVVFbKyspCVlYWqqipcvXoVWVlZOHfunMH7Z9ScnYExY5Tvea8kIiJqZUS9DB5Q3gjxgw8+QF5eHsLCwrBo0SLcf//9AIDRo0fj4sWL2Llzp7r9rl27kJiYiBMnTsDHxwczZsxQByYAuHjxIoKCgmrtp0+fPhrbqY9ZXwZ/u/PngbvuUp4Cy84GunQRuyIiIqJma8rfb9EDkDFqNQEIAIYMATZvVj4mg5fFExGRCTOJ+wCRkVDdJHLdOuVVYURERK0AA1Br98ADQLduyvsBrV4tdjVEREQGwQDU2kkk/90YcelSoKZG3HqIiIgMgAGIgGeeATw8gNxc4Oefxa6GiIhI7xiACJBKgZdfVr7nJfFERNQKMACR0ssvA9bWwL59wKFDYldDRESkVwxApOTtDcTHK99/8om4tRAREekZAxD9R3VJ/MaNQF6eqKUQERHpEwMQ/SciArjvPqC6GlixQuxqiIiI9IYBiDSpLolfsQKoqBC3FiIiIj1hACJNQ4cC/v5AYSHw7bdiV0NERKQXDECkycoKeOUV5ftPPlE+KJWIiMjMMABRbWPHAvb2wNGjwM6dYldDRESkcwxAVJurKzB6tPI9b4xIRERmiAGItJs8Wfnzl1+A8+fFrYWIiEjHGIBIu86dgUGDlHOAPv1U7GqIiIh0igGI6qa6MeKaNYBMJmopREREusQARHXr3x8ICQFKSpQhiIiIyEwwAFHdJJL/RoE+/RSQy0Uth4iISFcYgKh+zz4LuLkBFy4An38udjVEREQ6wQBE9bO3ByZNUr5/+WVg4kQ+IoOIiEweAxA1bM4cYNYs5fvly4GYGODcOXFrIiIiagEGIGqYlRXw7rvAb78BHh5AZiYQHg5s3Ch2ZURERM3CAESNN3AgkJUFxMYqrwwbPhyYMIGnxIiIyOQwAFHTtG8P/PEH8Prrys8rVgDR0cDZs+LWRURE1AQMQNR0VlbAO+8Av/+uPCWWlaU8JbZ+vdiVERERNQoDEDXfgAHK8HP//UBpKfDMM8BLLwHl5WJXRkREVC8GIGqZ9u2BHTuAN95Q3jhx1Srg3nuB06fFroyIiKhODEDUclZWwFtvAVu3Am3bAkePApGRwLffil0ZERGRVgxApDv9+ytPiT3wgPKU2MiRwIsv8pQYEREZHQYg0i0fH2D7duDNN5WnxD7/HIiKAk6dErsyIiIiNQYg0j1LS2D+fGDbNqBdO+DYMeUpsW++EbsyIiIiAIBEEARB7CKMjUwmg4uLC4qLi+Hs7Cx2OaYtL095KuzPP5WfAwOBe+7RfPn4KEeLiIiIWqApf79FHwFavnw5goKCIJVKERERgT179tTbfteuXYiIiIBUKkWHDh2wcuXKWm02bdqE0NBQ2NraIjQ0FD/99JO+yqeGeHsDaWnA3LnKydIXLwI//aQ8Rfboo4CvL+DpqbykfsYMYMMG5RVkCoXYlRMRkRkTdQRo48aNeO6557B8+XL07t0bn332GVavXo2TJ0/C39+/VvucnByEhYVh/PjxeOmll7Bv3z5MmDAB69evx7BhwwAA6enpiI2NxVtvvYXHH38cP/30E958803s3bsXUVFRjaqLI0B6cuOG8jliqldWFpCdrT3sODgA3bv/N0rUowcQFgbY2hq6aiIiMhFN+fstagCKiopCeHg4VqxYoV4WEhKCoUOHIjk5uVb7GTNmYPPmzcjOzlYvS0hIwJEjR5Ceng4AiI+Ph0wmw2+//aZuM3DgQLi6umJ9I+9UzABkQOXlyjlCt4eio0e1XzlmZQWEhmqePuveHXBxMXjZRERkfJry99vKQDXVUlVVhYyMDMycOVNjeVxcHPbv3691nfT0dMTFxWksGzBgAFJSUlBdXQ1ra2ukp6cjMTGxVpvFixfrtH7SETs7oFcv5UulpgY4c0YzFGVmAtevK8PR0aPAF1/8175DB+XokIODcgK2lZXypXrf0mWWlppzlFTvtS1ryXtj2h4Rkb65uCgvkBGJaAGosLAQcrkcnp6eGss9PT2Rn5+vdZ38/Hyt7WtqalBYWAhvb+8629S1TQCorKxEZWWl+rNMJmtqd0iXVCM9oaHKCdQAIAjA5cu1Q1FuLnDhgvJFRESmIzoaqGPAwxBEC0Aqkjv+X6cgCLWWNdT+zuVN3WZycjLmz5/f6JpJBBIJ4O+vfA0Z8t/yoiJlGDp9GqiqAuRy5QiS6uft7xvzXV3tAWUIU2novS7bGnpbRESG0KGDqLsXLQB5eHjA0tKy1shMQUFBrREcFS8vL63trays4O7uXm+burYJALNmzUJSUpL6s0wmg5+fX5P6QyJxdwf69VO+iIiIGkm0y+BtbGwQERGBtLQ0jeVpaWmIiYnRuk50dHSt9tu2bUNkZCSsra3rbVPXNgHA1tYWzs7OGi8iIiIyX6KeAktKSsJzzz2HyMhIREdHY9WqVcjNzUVCQgIA5cjM1atX8eWXXwJQXvG1dOlSJCUlYfz48UhPT0dKSorG1V1TpkzB/fffj/fffx9DhgzB//3f/2H79u3Yu3evKH0kIiIi4yNqAIqPj0dRUREWLFiAvLw8hIWFITU1FQEBAQCAvLw85ObmqtsHBQUhNTUViYmJWLZsGXx8fLBkyRL1PYAAICYmBhs2bMAbb7yBOXPmoGPHjti4cWOj7wFERERE5o+PwtCC9wEiIiIyPSb1KAwiIiIiQ2MAIiIiolaHAYiIiIhaHQYgIiIianUYgIiIiKjVYQAiIiKiVocBiIiIiFodBiAiIiJqdRiAiIiIqNVhACIiIqJWR9RngRkr1dNBZDKZyJUQERFRY6n+bjfmKV8MQFqUlJQAAPz8/ESuhIiIiJqqpKQELi4u9bbhw1C1UCgUuHbtGpycnCCRSJq1DZlMBj8/P1y+fNlsH6jKPpoH9tF8tIZ+so/mQV99FAQBJSUl8PHxgYVF/bN8OAKkhYWFBXx9fXWyLWdnZ7P9B6zCPpoH9tF8tIZ+so/mQR99bGjkR4WToImIiKjVYQAiIiKiVocBSE9sbW0xd+5c2Nrail2K3rCP5oF9NB+toZ/so3kwhj5yEjQRERG1OhwBIiIiolaHAYiIiIhaHQYgIiIianUYgPRk+fLlCAoKglQqRUREBPbs2SN2Sc0yb948SCQSjZeXl5f6e0EQMG/ePPj4+MDOzg4PPPAATpw4IWLFjbN79248+uij8PHxgUQiwc8//6zxfWP6VVlZiVdeeQUeHh5wcHDAY489hitXrhiwF/VrqI+jR4+udWzvvfdejTbG3Mfk5GT07NkTTk5OaNeuHYYOHYrTp09rtDH149iYPpr6cVyxYgW6deumvh9MdHQ0fvvtN/X3pn4MgYb7aOrHUJvk5GRIJBJMnTpVvczYjiUDkB5s3LgRU6dOxezZs5GZmYnY2FgMGjQIubm5YpfWLHfffTfy8vLUr2PHjqm/++CDD7Bw4UIsXboUBw8ehJeXF/r3769+nIixunXrFrp3746lS5dq/b4x/Zo6dSp++uknbNiwAXv37kVpaSkeeeQRyOVyQ3WjXg31EQAGDhyocWxTU1M1vjfmPu7atQsTJ07EX3/9hbS0NNTU1CAuLg63bt1StzH149iYPgKmfRx9fX3x3nvv4dChQzh06BD69u2LIUOGqP8wmvoxBBruI2Dax/BOBw8exKpVq9CtWzeN5UZ3LAXSuV69egkJCQkay7p06SLMnDlTpIqab+7cuUL37t21fqdQKAQvLy/hvffeUy+rqKgQXFxchJUrVxqowpYDIPz000/qz43p182bNwVra2thw4YN6jZXr14VLCwshN9//91gtTfWnX0UBEF4/vnnhSFDhtS5jqn1saCgQAAg7Nq1SxAE8zyOd/ZREMzvOAqCILi6ugqrV682y2OoouqjIJjXMSwpKRHuuusuIS0tTejTp48wZcoUQRCM879HjgDpWFVVFTIyMhAXF6exPC4uDvv37xepqpY5e/YsfHx8EBQUhOHDh+PChQsAgJycHOTn52v01dbWFn369DHZvgKN61dGRgaqq6s12vj4+CAsLMyk+r5z5060a9cOwcHBGD9+PAoKCtTfmVofi4uLAQBubm4AzPM43tlHFXM5jnK5HBs2bMCtW7cQHR1tlsfwzj6qmMsxnDhxIh5++GE89NBDGsuN8VjyWWA6VlhYCLlcDk9PT43lnp6eyM/PF6mq5ouKisKXX36J4OBg/PPPP3j77bcRExODEydOqPujra+XLl0So1ydaEy/8vPzYWNjA1dX11ptTOU4Dxo0CE899RQCAgKQk5ODOXPmoG/fvsjIyICtra1J9VEQBCQlJeG+++5DWFgYAPM7jtr6CJjHcTx27Biio6NRUVEBR0dH/PTTTwgNDVX/0TOHY1hXHwHzOIYAsGHDBhw+fBgHDx6s9Z0x/vfIAKQndz5FXhCEZj9ZXkyDBg1Sv+/atSuio6PRsWNHfPHFF+pJeubS1zs1p1+m1Pf4+Hj1+7CwMERGRiIgIAC//vornnjiiTrXM8Y+Tpo0CUePHsXevXtrfWcux7GuPprDcezcuTOysrJw8+ZNbNq0Cc8//zx27dql/t4cjmFdfQwNDTWLY3j58mVMmTIF27Ztg1QqrbOdMR1LngLTMQ8PD1haWtZKqwUFBbWSrylycHBA165dcfbsWfXVYObW18b0y8vLC1VVVbhx40adbUyNt7c3AgICcPbsWQCm08dXXnkFmzdvxp9//glfX1/1cnM6jnX1URtTPI42Njbo1KkTIiMjkZycjO7du+OTTz4xq2NYVx+1McVjmJGRgYKCAkRERMDKygpWVlbYtWsXlixZAisrK3WdxnQsGYB0zMbGBhEREUhLS9NYnpaWhpiYGJGq0p3KykpkZ2fD29sbQUFB8PLy0uhrVVUVdu3aZdJ9bUy/IiIiYG1trdEmLy8Px48fN9m+FxUV4fLly/D29gZg/H0UBAGTJk3Cjz/+iD/++ANBQUEa35vDcWyoj9qY2nHURhAEVFZWmsUxrIuqj9qY4jHs168fjh07hqysLPUrMjISI0eORFZWFjp06GB8x1Ln06pJ2LBhg2BtbS2kpKQIJ0+eFKZOnSo4ODgIFy9eFLu0Jps2bZqwc+dO4cKFC8Jff/0lPPLII4KTk5O6L++9957g4uIi/Pjjj8KxY8eEESNGCN7e3oJMJhO58vqVlJQImZmZQmZmpgBAWLhwoZCZmSlcunRJEITG9SshIUHw9fUVtm/fLhw+fFjo27ev0L17d6Gmpkasbmmor48lJSXCtGnThP379ws5OTnCn3/+KURHRwvt27c3mT6+/PLLgouLi7Bz504hLy9P/SorK1O3MfXj2FAfzeE4zpo1S9i9e7eQk5MjHD16VHj99dcFCwsLYdu2bYIgmP4xFIT6+2gOx7Aut18FJgjGdywZgPRk2bJlQkBAgGBjYyOEh4drXLZqSuLj4wVvb2/B2tpa8PHxEZ544gnhxIkT6u8VCoUwd+5cwcvLS7C1tRXuv/9+4dixYyJW3Dh//vmnAKDW6/nnnxcEoXH9Ki8vFyZNmiS4ubkJdnZ2wiOPPCLk5uaK0Bvt6utjWVmZEBcXJ7Rt21awtrYW/P39heeff75W/cbcR219AyCsXbtW3cbUj2NDfTSH4zhmzBj1/1a2bdtW6Nevnzr8CILpH0NBqL+P5nAM63JnADK2Y8mnwRMREVGrwzlARERE1OowABEREVGrwwBERERErQ4DEBEREbU6DEBERETU6jAAERERUavDAEREREStDgMQERERtToMQERklgIDA7F48WKxyyAiI8UAREQmbd26dWjTpk2t5QcPHsSLL76o9/0zaBGZJiuxCyAi0oe2bduKXUKTVFVVwcbGRuwyiFoNjgARkU488MADmDx5Ml577TW4ubnBy8sL8+bNa9S6xcXFePHFF9GuXTs4Ozujb9++OHLkiPr7I0eO4MEHH4STkxOcnZ0RERGBQ4cOYefOnXjhhRdQXFwMiUQCiUSi3uedIzMSiQSfffYZHnnkEdjb2yMkJATp6ek4d+4cHnjgATg4OCA6Ohrnz59Xr3P+/HkMGTIEnp6ecHR0RM+ePbF9+3aNPl+6dAmJiYnq/ats2rQJd999N2xtbREYGIiPP/5Yo8+BgYF4++23MXr0aLi4uGD8+PGoqqrCpEmT4O3tDalUisDAQCQnJzfhKBBRYzEAEZHOfPHFF3BwcMCBAwfwwQcfYMGCBUhLS6t3HUEQ8PDDDyM/Px+pqanIyMhAeHg4+vXrh+vXrwMARo4cCV9fXxw8eBAZGRmYOXMmrK2tERMTg8WLF8PZ2Rl5eXnIy8vD9OnT69zXW2+9hVGjRiErKwtdunTBM888g5deegmzZs3CoUOHAACTJk1Sty8tLcXgwYOxfft2ZGZmYsCAAXj00UeRm5sLAPjxxx/h6+uLBQsWqPcPABkZGXj66acxfPhwHDt2DPPmzcOcOXOwbt06jXo+/PBDhIWFISMjA3PmzMGSJUuwefNmfPfddzh9+jS+/vprBAYGNvUwEFFj6OUZ80TU6vTp00e47777NJb17NlTmDFjRr3r7dixQ3B2dhYqKio0lnfs2FH47LPPBEEQBCcnJ2HdunVa11+7dq3g4uJSa3lAQICwaNEi9WcAwhtvvKH+nJ6eLgAQUlJS1MvWr18vSKXSeusNDQ0VPv300zr3IwiC8Mwzzwj9+/fXWPbqq68KoaGhGusNHTpUo80rr7wi9O3bV1AoFPXWQEQtxxEgItKZbt26aXz29vZGQUFBvetkZGSgtLQU7u7ucHR0VL9ycnLUp6OSkpIwbtw4PPTQQ3jvvfc0TlM1tz5PT08AQNeuXTWWVVRUQCaTAQBu3bqF1157DaGhoWjTpg0cHR1x6tQp9QhQXbKzs9G7d2+NZb1798bZs2chl8vVyyIjIzXajB49GllZWejcuTMmT56Mbdu2NaufRNQwToImIp2xtrbW+CyRSKBQKOpdR6FQwNvbGzt37qz1nerqrnnz5uGZZ57Br7/+it9++w1z587Fhg0b8Pjjjze7PtV8HW3LVDW/+uqr2Lp1Kz766CN06tQJdnZ2ePLJJ1FVVVXvfgRB0JgPpFp2JwcHB43P4eHhyMnJwW+//Ybt27fj6aefxkMPPYQffvihCb0kosZgACIiUYWHhyM/Px9WVlb1zncJDg5GcHAwEhMTMWLECKxduxaPP/44bGxsNEZVdGnPnj0YPXq0OmiVlpbi4sWLGm207T80NBR79+7VWLZ//34EBwfD0tKy3n06OzsjPj4e8fHxePLJJzFw4EBcv34dbm5uLe8QEanxFBgRieqhhx5CdHQ0hg4diq1bt+LixYvYv38/3njjDRw6dAjl5eWYNGkSdu7ciUuXLmHfvn04ePAgQkJCACivpiotLcWOHTtQWFiIsrIyndXWqVMn/Pjjj8jKysKRI0fwzDPP1BrRCgwMxO7du3H16lUUFhYCAKZNm4YdO3bgrbfewpkzZ/DFF19g6dKl9U7QBoBFixZhw4YNOHXqFM6cOYPvv/8eXl5eWu9zREQtwwBERKKSSCRITU3F/fffjzFjxiA4OBjDhw/HxYsX4enpCUtLSxQVFWHUqFEIDg7G008/jUGDBmH+/PkAgJiYGCQkJCA+Ph5t27bFBx98oLPaFi1aBFdXV8TExODRRx/FgAEDEB4ertFmwYIFuHjxIjp27Ki+91B4eDi+++47bNiwAWFhYXjzzTexYMECjB49ut79OTo64v3330dkZCR69uyJixcvIjU1FRYW/J9qIl2TCNpOTBMRERGZMf7fCiIiImp1GICISK+++eYbjcvbb3/dfffdYpdHRK0UT4ERkV6VlJTgn3/+0fqdtbU1AgICDFwREREDEBEREbVCPAVGRERErQ4DEBEREbU6DEBERETU6jAAERERUavDAEREREStDgMQERERtToMQERERNTqMAARERFRq/P/byPQioVULRkAAAAASUVORK5CYII=",
      "text/plain": [
       "<Figure size 640x480 with 1 Axes>"
      ]
     },
     "metadata": {},
     "output_type": "display_data"
    }
   ],
   "source": [
    "from sklearn.metrics import auc, accuracy_score, confusion_matrix, mean_squared_error\n",
    "from xgboost import XGBClassifier\n",
    "import matplotlib.pyplot as plt\n",
    "from matplotlib.legend_handler import HandlerLine2D\n",
    "\n",
    "train_results = []\n",
    "test_results = []\n",
    "list_nb_trees = [5, 10, 30, 45, 60, 80, 100, 150, 200, 300, 400]\n",
    "\n",
    "for nb_trees in list_nb_trees:\n",
    "    modelG = XGBClassifier(n_estimators= nb_trees)\n",
    "    modelG.fit(X, y)\n",
    "\n",
    "    train_results.append(1 - (modelG.score(X,y)))\n",
    "    test_results.append(1 - (modelG.score(testing_set, testing_label)))\n",
    "\n",
    "line1, = plt.plot(list_nb_trees, train_results, color=\"r\", label=\"Training Score\")\n",
    "line2, = plt.plot(list_nb_trees, test_results, color=\"g\", label=\"Testing Score\")\n",
    "\n",
    "plt.legend(handler_map={line1: HandlerLine2D(numpoints=2)})\n",
    "plt.ylabel('Error')\n",
    "plt.xlabel('n_estimators')\n",
    "fig = plt.gcf()\n",
    "plt.show()\n",
    "fig.savefig('XGBoostBaseModel.png')"
   ]
  },
  {
   "cell_type": "code",
   "execution_count": 19,
   "id": "52ff7f00",
   "metadata": {
    "scrolled": true
   },
   "outputs": [
    {
     "data": {
      "text/plain": [
       "<Figure size 640x480 with 0 Axes>"
      ]
     },
     "metadata": {},
     "output_type": "display_data"
    }
   ],
   "source": [
    "plt.savefig('destination_path.eps', format='eps')"
   ]
  },
  {
   "cell_type": "code",
   "execution_count": 82,
   "id": "81d0670b",
   "metadata": {},
   "outputs": [
    {
     "data": {
      "text/plain": [
       "<Figure size 640x480 with 0 Axes>"
      ]
     },
     "metadata": {},
     "output_type": "display_data"
    },
    {
     "data": {
      "image/png": "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",
      "text/plain": [
       "<Figure size 640x480 with 2 Axes>"
      ]
     },
     "metadata": {},
     "output_type": "display_data"
    }
   ],
   "source": [
    "from sklearn.metrics import confusion_matrix, ConfusionMatrixDisplay\n",
    "predictions = model_1.predict(testing_set)\n",
    "cm = confusion_matrix(testing_label, predictions, labels=model_1.classes_)\n",
    "disp = ConfusionMatrixDisplay(confusion_matrix=cm, display_labels=model_1.classes_)\n",
    "plt.savefig('Confusion_matrix', format=None)\n",
    "disp.plot()\n",
    "plt.show()"
   ]
  },
  {
   "cell_type": "code",
   "execution_count": null,
   "id": "dc0c8cf8",
   "metadata": {},
   "outputs": [],
   "source": []
  }
 ],
 "metadata": {
  "kernelspec": {
   "display_name": "Python 3 (ipykernel)",
   "language": "python",
   "name": "python3"
  },
  "language_info": {
   "codemirror_mode": {
    "name": "ipython",
    "version": 3
   },
   "file_extension": ".py",
   "mimetype": "text/x-python",
   "name": "python",
   "nbconvert_exporter": "python",
   "pygments_lexer": "ipython3",
   "version": "3.10.11"
  }
 },
 "nbformat": 4,
 "nbformat_minor": 5
}
